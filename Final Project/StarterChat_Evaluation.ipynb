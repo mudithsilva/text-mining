{
 "cells": [
  {
   "cell_type": "code",
   "execution_count": 1,
   "metadata": {},
   "outputs": [],
   "source": [
    "from sklearn.naive_bayes import MultinomialNB\n",
    "from sklearn.linear_model import LogisticRegression\n",
    "from sklearn.linear_model import SGDClassifier\n",
    "\n",
    "from sklearn.pipeline import Pipeline\n",
    "import spacy\n",
    "import numpy as np\n",
    "from sklearn.feature_extraction.text import CountVectorizer, TfidfVectorizer, TfidfTransformer\n",
    "from sklearn.metrics import classification_report, confusion_matrix\n",
    "\n",
    "import pandas as pd\n",
    "from sklearn.model_selection import train_test_split\n",
    "from proj_helper import Helper, TimeHelper\n",
    "import joblib"
   ]
  },
  {
   "attachments": {
    "image-4.png": {
     "image/png": "[encoded data removed]"
    }
   },
   "cell_type": "markdown",
   "metadata": {},
   "source": [
    "1 - General Greeting\tUsed Hi for all injection words (Hey, Hi,..) <br>\n",
    "2 - Greeting + Checkback\tReplaced usergreetings -> Good Morning <br>\n",
    "3 - Ask Available Services\tEg:- All available services <br>\n",
    "4 - Ask General Services\tEg :- Hair cut, Colouring … <br> \n",
    "5 - Make Reservation\t<br>\n",
    "6 - Change Reservation\t<br>\n",
    "7 - Remove/Cancel Reservation\t<br>\n",
    "![image-4.png](attachment:image-4.png)\n"
   ]
  },
  {
   "cell_type": "code",
   "execution_count": 2,
   "metadata": {},
   "outputs": [],
   "source": [
    "chat_data = pd.read_excel('UserChatData.xlsx', header=0) "
   ]
  },
  {
   "cell_type": "code",
   "execution_count": 3,
   "metadata": {},
   "outputs": [
    {
     "data": {
      "text/html": [
       "<div>\n",
       "<style scoped>\n",
       "    .dataframe tbody tr th:only-of-type {\n",
       "        vertical-align: middle;\n",
       "    }\n",
       "\n",
       "    .dataframe tbody tr th {\n",
       "        vertical-align: top;\n",
       "    }\n",
       "\n",
       "    .dataframe thead th {\n",
       "        text-align: right;\n",
       "    }\n",
       "</style>\n",
       "<table border=\"1\" class=\"dataframe\">\n",
       "  <thead>\n",
       "    <tr style=\"text-align: right;\">\n",
       "      <th></th>\n",
       "      <th>Chat</th>\n",
       "      <th>Group</th>\n",
       "    </tr>\n",
       "  </thead>\n",
       "  <tbody>\n",
       "    <tr>\n",
       "      <th>0</th>\n",
       "      <td>interjection</td>\n",
       "      <td>1</td>\n",
       "    </tr>\n",
       "    <tr>\n",
       "      <th>1</th>\n",
       "      <td>interjection I am username</td>\n",
       "      <td>1</td>\n",
       "    </tr>\n",
       "    <tr>\n",
       "      <th>2</th>\n",
       "      <td>interjection I'm username</td>\n",
       "      <td>1</td>\n",
       "    </tr>\n",
       "    <tr>\n",
       "      <th>3</th>\n",
       "      <td>interjection Glad to meet you!</td>\n",
       "      <td>1</td>\n",
       "    </tr>\n",
       "    <tr>\n",
       "      <th>4</th>\n",
       "      <td>interjection Nice to meet you!</td>\n",
       "      <td>1</td>\n",
       "    </tr>\n",
       "  </tbody>\n",
       "</table>\n",
       "</div>"
      ],
      "text/plain": [
       "                             Chat  Group\n",
       "0                    interjection      1\n",
       "1      interjection I am username      1\n",
       "2       interjection I'm username      1\n",
       "3  interjection Glad to meet you!      1\n",
       "4  interjection Nice to meet you!      1"
      ]
     },
     "execution_count": 3,
     "metadata": {},
     "output_type": "execute_result"
    }
   ],
   "source": [
    "chat_data.head()"
   ]
  },
  {
   "cell_type": "code",
   "execution_count": 4,
   "metadata": {},
   "outputs": [
    {
     "data": {
      "text/plain": [
       "4    72\n",
       "3    64\n",
       "6    63\n",
       "7    60\n",
       "5    60\n",
       "2    60\n",
       "1    60\n",
       "8    40\n",
       "Name: Group, dtype: int64"
      ]
     },
     "execution_count": 4,
     "metadata": {},
     "output_type": "execute_result"
    }
   ],
   "source": [
    "chat_data['Group'].value_counts()"
   ]
  },
  {
   "cell_type": "code",
   "execution_count": 5,
   "metadata": {},
   "outputs": [
    {
     "name": "stderr",
     "output_type": "stream",
     "text": [
      "<ipython-input-5-659158dd99a6>:5: SettingWithCopyWarning: \n",
      "A value is trying to be set on a copy of a slice from a DataFrame\n",
      "\n",
      "See the caveats in the documentation: https://pandas.pydata.org/pandas-docs/stable/user_guide/indexing.html#returning-a-view-versus-a-copy\n",
      "  chat_data['Chat'][row] = item.preprocess_givendata(chat_data['Chat'][row])\n"
     ]
    },
    {
     "data": {
      "text/plain": [
       "0                       interjection.\n",
       "1         interjection I am username.\n",
       "2         interjection I 'm username.\n",
       "3      interjection Glad to meet you.\n",
       "4      interjection Nice to meet you.\n",
       "                    ...              \n",
       "474                             Okiz.\n",
       "475                      okiz thanks.\n",
       "476                           thankz.\n",
       "477              thank you very much.\n",
       "478           very well interjection.\n",
       "Name: Chat, Length: 479, dtype: object"
      ]
     },
     "execution_count": 5,
     "metadata": {},
     "output_type": "execute_result"
    }
   ],
   "source": [
    "item = Helper()\n",
    "# item.preprocess(\"Heyy I'm Mudith\")\n",
    "\n",
    "for row in range(len(chat_data['Chat'])):\n",
    "    chat_data['Chat'][row] = item.preprocess_givendata(chat_data['Chat'][row])\n",
    "\n",
    "chat_data['Chat']"
   ]
  },
  {
   "cell_type": "code",
   "execution_count": 6,
   "metadata": {},
   "outputs": [],
   "source": [
    "shuffle_df = chat_data.sample(n=len(chat_data), random_state=21)\n",
    "x_train,x_test,y_train,y_test=train_test_split(shuffle_df['Chat'],shuffle_df['Group'],test_size=0.20,random_state = 21)"
   ]
  },
  {
   "cell_type": "code",
   "execution_count": 7,
   "metadata": {},
   "outputs": [
    {
     "name": "stdout",
     "output_type": "stream",
     "text": [
      "              precision    recall  f1-score   support\n",
      "\n",
      "           1       1.00      0.94      0.97        17\n",
      "           2       1.00      1.00      1.00        15\n",
      "           3       0.88      1.00      0.93         7\n",
      "           4       1.00      1.00      1.00        11\n",
      "           5       1.00      1.00      1.00        13\n",
      "           6       1.00      1.00      1.00         9\n",
      "           7       1.00      1.00      1.00        15\n",
      "           8       1.00      1.00      1.00         9\n",
      "\n",
      "    accuracy                           0.99        96\n",
      "   macro avg       0.98      0.99      0.99        96\n",
      "weighted avg       0.99      0.99      0.99        96\n",
      "\n"
     ]
    },
    {
     "name": "stderr",
     "output_type": "stream",
     "text": [
      "/Users/Chathuranga/opt/anaconda3/lib/python3.8/site-packages/sklearn/linear_model/_logistic.py:762: ConvergenceWarning: lbfgs failed to converge (status=1):\n",
      "STOP: TOTAL NO. of ITERATIONS REACHED LIMIT.\n",
      "\n",
      "Increase the number of iterations (max_iter) or scale the data as shown in:\n",
      "    https://scikit-learn.org/stable/modules/preprocessing.html\n",
      "Please also refer to the documentation for alternative solver options:\n",
      "    https://scikit-learn.org/stable/modules/linear_model.html#logistic-regression\n",
      "  n_iter_i = _check_optimize_result(\n"
     ]
    }
   ],
   "source": [
    "# pipe = Pipeline([('Count_Vect',CountVectorizer()),\n",
    "#                  ('tfidf', TfidfTransformer()),\n",
    "#                  ('MNB', MultinomialNB(alpha=0.1))])\n",
    "\n",
    "# pipe = Pipeline([('Count_Vect',CountVectorizer()),\n",
    "#                  ('tfidf', TfidfTransformer()),\n",
    "#                  ('SGD', SGDClassifier(loss='hinge', penalty='l2',alpha=1e-3, random_state=12, max_iter=5, tol=None))])\n",
    "\n",
    "pipe = Pipeline([('Count_Vect',CountVectorizer()),\n",
    "                 ('tfidf', TfidfTransformer()),\n",
    "                 ('LR', LogisticRegression(n_jobs=1, C=1e5, solver='lbfgs',max_iter=250))])\n",
    "\n",
    "pipe.fit(x_train, y_train)\n",
    "y_pred = pipe.predict(x_test)\n",
    "y_true = y_test\n",
    "\n",
    "print(classification_report(y_true, y_pred))"
   ]
  },
  {
   "cell_type": "code",
   "execution_count": 8,
   "metadata": {},
   "outputs": [
    {
     "data": {
      "text/plain": [
       "array([[16,  0,  1,  0,  0,  0,  0,  0],\n",
       "       [ 0, 15,  0,  0,  0,  0,  0,  0],\n",
       "       [ 0,  0,  7,  0,  0,  0,  0,  0],\n",
       "       [ 0,  0,  0, 11,  0,  0,  0,  0],\n",
       "       [ 0,  0,  0,  0, 13,  0,  0,  0],\n",
       "       [ 0,  0,  0,  0,  0,  9,  0,  0],\n",
       "       [ 0,  0,  0,  0,  0,  0, 15,  0],\n",
       "       [ 0,  0,  0,  0,  0,  0,  0,  9]])"
      ]
     },
     "execution_count": 8,
     "metadata": {},
     "output_type": "execute_result"
    }
   ],
   "source": [
    "confusion_matrix(y_true, y_pred,labels=[1, 2, 3, 4, 5, 6, 7, 8])"
   ]
  },
  {
   "cell_type": "code",
   "execution_count": 9,
   "metadata": {},
   "outputs": [
    {
     "data": {
      "text/plain": [
       "['Group_model.sav']"
      ]
     },
     "execution_count": 9,
     "metadata": {},
     "output_type": "execute_result"
    }
   ],
   "source": [
    "# save the model to disk\n",
    "filename = 'Group_model.sav'\n",
    "joblib.dump(pipe, filename)"
   ]
  },
  {
   "cell_type": "code",
   "execution_count": 10,
   "metadata": {},
   "outputs": [],
   "source": [
    "# load the model from disk\n",
    "# loaded_model = joblib.load(\"Group_model.sav\")"
   ]
  },
  {
   "cell_type": "code",
   "execution_count": 11,
   "metadata": {},
   "outputs": [
    {
     "data": {
      "text/plain": [
       "'Hi There.'"
      ]
     },
     "execution_count": 11,
     "metadata": {},
     "output_type": "execute_result"
    }
   ],
   "source": [
    "item.preprocess(\"Hi There\")"
   ]
  },
  {
   "cell_type": "code",
   "execution_count": 12,
   "metadata": {},
   "outputs": [],
   "source": [
    "# loaded_model.predict([item.preprocess(\"Hi There\")])\n",
    "# print(x_test)"
   ]
  },
  {
   "cell_type": "code",
   "execution_count": 13,
   "metadata": {},
   "outputs": [
    {
     "data": {
      "text/plain": [
       "\"interjection i 'm username . usergreet . i need to know about gservice and gservice . reservation for lalith.\""
      ]
     },
     "execution_count": 13,
     "metadata": {},
     "output_type": "execute_result"
    }
   ],
   "source": [
    "item.preprocess_givendata(\"Hi I'm Mudith. Good Morning. I need to know about hair cut and coloring. Reservation for Lalith\")"
   ]
  },
  {
   "cell_type": "code",
   "execution_count": 14,
   "metadata": {},
   "outputs": [],
   "source": [
    "item.check_client_name(\"Yes it's for Lalith\")"
   ]
  },
  {
   "cell_type": "code",
   "execution_count": 15,
   "metadata": {},
   "outputs": [
    {
     "data": {
      "text/html": [
       "<div>\n",
       "<style scoped>\n",
       "    .dataframe tbody tr th:only-of-type {\n",
       "        vertical-align: middle;\n",
       "    }\n",
       "\n",
       "    .dataframe tbody tr th {\n",
       "        vertical-align: top;\n",
       "    }\n",
       "\n",
       "    .dataframe thead th {\n",
       "        text-align: right;\n",
       "    }\n",
       "</style>\n",
       "<table border=\"1\" class=\"dataframe\">\n",
       "  <thead>\n",
       "    <tr style=\"text-align: right;\">\n",
       "      <th></th>\n",
       "      <th>chat</th>\n",
       "      <th>actual</th>\n",
       "      <th>pred</th>\n",
       "    </tr>\n",
       "  </thead>\n",
       "  <tbody>\n",
       "    <tr>\n",
       "      <th>275</th>\n",
       "      <td>Could you make appointment.</td>\n",
       "      <td>5</td>\n",
       "      <td>5</td>\n",
       "    </tr>\n",
       "    <tr>\n",
       "      <th>282</th>\n",
       "      <td>interjection usergreet I need to get gservice.</td>\n",
       "      <td>5</td>\n",
       "      <td>5</td>\n",
       "    </tr>\n",
       "    <tr>\n",
       "      <th>145</th>\n",
       "      <td>What can I get from you ?.</td>\n",
       "      <td>3</td>\n",
       "      <td>3</td>\n",
       "    </tr>\n",
       "    <tr>\n",
       "      <th>6</th>\n",
       "      <td>interjection usergreet.</td>\n",
       "      <td>1</td>\n",
       "      <td>1</td>\n",
       "    </tr>\n",
       "    <tr>\n",
       "      <th>59</th>\n",
       "      <td>Hola Nice to meet you.</td>\n",
       "      <td>1</td>\n",
       "      <td>1</td>\n",
       "    </tr>\n",
       "    <tr>\n",
       "      <th>22</th>\n",
       "      <td>Nice to get to know you .</td>\n",
       "      <td>1</td>\n",
       "      <td>3</td>\n",
       "    </tr>\n",
       "  </tbody>\n",
       "</table>\n",
       "</div>"
      ],
      "text/plain": [
       "                                               chat  actual  pred\n",
       "275                     Could you make appointment.       5     5\n",
       "282  interjection usergreet I need to get gservice.       5     5\n",
       "145                      What can I get from you ?.       3     3\n",
       "6                           interjection usergreet.       1     1\n",
       "59                           Hola Nice to meet you.       1     1\n",
       "22                        Nice to get to know you .       1     3"
      ]
     },
     "execution_count": 15,
     "metadata": {},
     "output_type": "execute_result"
    }
   ],
   "source": [
    "d = {'chat': x_test, 'actual': y_test, 'pred': y_pred}\n",
    "len(y_train)\n",
    "df = pd.DataFrame(data=d)\n",
    "df[90:]"
   ]
  },
  {
   "cell_type": "code",
   "execution_count": null,
   "metadata": {},
   "outputs": [],
   "source": []
  }
 ],
 "metadata": {
  "kernelspec": {
   "display_name": "Python 3",
   "language": "python",
   "name": "python3"
  },
  "language_info": {
   "codemirror_mode": {
    "name": "ipython",
    "version": 3
   },
   "file_extension": ".py",
   "mimetype": "text/x-python",
   "name": "python",
   "nbconvert_exporter": "python",
   "pygments_lexer": "ipython3",
   "version": "3.8.3"
  }
 },
 "nbformat": 4,
 "nbformat_minor": 4
}
