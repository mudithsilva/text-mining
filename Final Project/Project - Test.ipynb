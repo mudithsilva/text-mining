{
 "cells": [
  {
   "cell_type": "code",
   "execution_count": 1,
   "metadata": {},
   "outputs": [],
   "source": [
    "import spacy\n",
    "from proj_helper import Helper\n",
    "import pandas as pd"
   ]
  },
  {
   "cell_type": "code",
   "execution_count": 2,
   "metadata": {},
   "outputs": [
    {
     "name": "stdout",
     "output_type": "stream",
     "text": [
      "Time  13\n"
     ]
    }
   ],
   "source": [
    "item = Helper()"
   ]
  },
  {
   "cell_type": "code",
   "execution_count": 19,
   "metadata": {},
   "outputs": [
    {
     "name": "stdout",
     "output_type": "stream",
     "text": [
      "Test |||  i need information about gservice\n",
      "Pred Group is  4\n",
      "Chat Person Name :-  Mudith Silva\n",
      "Greeting :-  None\n",
      "Service Codes :-  ['G001', 'G001', 'G001', 'G001']\n",
      "Service Tags :-  ['hair cut', 'hair cut', 'hair cut', 'hair cut']\n"
     ]
    },
    {
     "data": {
      "text/plain": [
       "'We are providing Hair cuts for Ladies, Gents and Children hair cuts. Ladies Hair cut 20$ upwards. Gents Hair cut 10$ upwards. And we have special children hair cuts 6$ upwards.'"
      ]
     },
     "execution_count": 19,
     "metadata": {},
     "output_type": "execute_result"
    }
   ],
   "source": [
    "item.get_chat_response(\"I need to chec\")"
   ]
  },
  {
   "cell_type": "code",
   "execution_count": 4,
   "metadata": {},
   "outputs": [],
   "source": [
    "item.re_name"
   ]
  },
  {
   "cell_type": "code",
   "execution_count": 5,
   "metadata": {},
   "outputs": [
    {
     "name": "stdout",
     "output_type": "stream",
     "text": [
      "Time  13\n"
     ]
    }
   ],
   "source": [
    "sett = Helper()"
   ]
  },
  {
   "cell_type": "code",
   "execution_count": 6,
   "metadata": {},
   "outputs": [],
   "source": [
    "# item.cluster3_words"
   ]
  },
  {
   "cell_type": "code",
   "execution_count": 7,
   "metadata": {},
   "outputs": [],
   "source": [
    "# re_name_checked = True\n",
    "\n",
    "# def check_reservation_name(text):\n",
    "#     if re_name_checked == False:\n",
    "#         if text == \"\":\n",
    "#             return False, \"No Name\"\n",
    "#         else:\n",
    "#             return False, \"Got Name\"\n",
    "#     else:\n",
    "#         return True, \"\"\n",
    "\n",
    "# check_reservation_name(\"test\")"
   ]
  },
  {
   "cell_type": "code",
   "execution_count": 8,
   "metadata": {},
   "outputs": [],
   "source": [
    "# sen_1 = \"I need to know about saloon service\"\n",
    "# sen_2 = \"what services do you provide?\"\n",
    "\n",
    "# calculate_similarity(sen_1,sen_2)"
   ]
  },
  {
   "cell_type": "code",
   "execution_count": 9,
   "metadata": {},
   "outputs": [],
   "source": [
    "# from spacy.vocab import Vocab\n",
    "# vocab = Vocab(strings=[\"hello\", \"world\"])"
   ]
  },
  {
   "cell_type": "code",
   "execution_count": 10,
   "metadata": {},
   "outputs": [],
   "source": [
    "# from spacy_lookup import Entity\n",
    "# nlp = spacy.load('en_core_web_sm')\n",
    "# entity = Entity(keywords_list=['Men hair cut','hair cut'], label='ACME')\n",
    "# nlp.add_pipe(entity, last=True)\n",
    "\n",
    "# doc = nlp(\"I need to get men hair cut prices.\")\n",
    "# # assert doc._.has_entities == True\n",
    "# # assert doc[2:5]._.has_entities == True\n",
    "# # assert doc[0]._.is_entity == False\n",
    "# # assert doc[3]._.is_entity == True\n",
    "# print(doc._.entities)\n",
    "# print(doc[5])"
   ]
  },
  {
   "cell_type": "code",
   "execution_count": 11,
   "metadata": {},
   "outputs": [],
   "source": [
    "# for ent in doc.ents:\n",
    "#     print(ent.text, ent.start_char, ent.end_char, ent.label_)"
   ]
  },
  {
   "cell_type": "code",
   "execution_count": 12,
   "metadata": {},
   "outputs": [],
   "source": [
    "# def is_my_product(text):\n",
    "#     products = [\"cut\"]\n",
    "#     return text in products\n",
    "\n",
    "# MY_PRODUCT = nlp.vocab.add_flag(is_my_product)\n",
    "# doc = nlp(\"I want to know hair cut\")\n",
    "# doc[4].check_flag(MY_PRODUCT)"
   ]
  },
  {
   "cell_type": "markdown",
   "metadata": {},
   "source": [
    "References <br>\n",
    "01. https://machinelearningmastery.com/save-load-machine-learning-models-python-scikit-learn/ <br>\n",
    "02. Added interjections"
   ]
  },
  {
   "cell_type": "code",
   "execution_count": null,
   "metadata": {},
   "outputs": [],
   "source": []
  }
 ],
 "metadata": {
  "kernelspec": {
   "display_name": "Python 3",
   "language": "python",
   "name": "python3"
  },
  "language_info": {
   "codemirror_mode": {
    "name": "ipython",
    "version": 3
   },
   "file_extension": ".py",
   "mimetype": "text/x-python",
   "name": "python",
   "nbconvert_exporter": "python",
   "pygments_lexer": "ipython3",
   "version": "3.8.3"
  }
 },
 "nbformat": 4,
 "nbformat_minor": 4
}
