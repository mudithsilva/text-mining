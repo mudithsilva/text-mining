{
 "cells": [
  {
   "cell_type": "markdown",
   "metadata": {},
   "source": [
    "# Text Mining: Course introduction"
   ]
  },
  {
   "cell_type": "markdown",
   "metadata": {},
   "source": [
    "This course uses [Jupyter notebooks](http://jupyter.org/) for the lab assignments. Notebooks let you write and execute Python code in a web browser, and they make it very easy to mix code and text.\n",
    "\n",
    "The purpose of this particular notebook is to give you a glimpse of what is to come."
   ]
  },
  {
   "cell_type": "markdown",
   "metadata": {},
   "source": [
    "## Load some data"
   ]
  },
  {
   "cell_type": "markdown",
   "metadata": {},
   "source": [
    "Load a data set of movie reviews."
   ]
  },
  {
   "cell_type": "code",
   "execution_count": 1,
   "metadata": {},
   "outputs": [],
   "source": [
    "import bz2\n",
    "import pandas as pd\n",
    "\n",
    "with bz2.open('sst-train.json.bz2', 't') as source:\n",
    "    df = pd.read_json(source)"
   ]
  },
  {
   "cell_type": "markdown",
   "metadata": {},
   "source": [
    "Print the number of reviews."
   ]
  },
  {
   "cell_type": "code",
   "execution_count": 2,
   "metadata": {},
   "outputs": [
    {
     "data": {
      "text/plain": [
       "6920"
      ]
     },
     "execution_count": 2,
     "metadata": {},
     "output_type": "execute_result"
    }
   ],
   "source": [
    "len(df)"
   ]
  },
  {
   "cell_type": "markdown",
   "metadata": {},
   "source": [
    "Show the first few reviews."
   ]
  },
  {
   "cell_type": "code",
   "execution_count": 3,
   "metadata": {},
   "outputs": [
    {
     "data": {
      "text/html": [
       "<div>\n",
       "<style scoped>\n",
       "    .dataframe tbody tr th:only-of-type {\n",
       "        vertical-align: middle;\n",
       "    }\n",
       "\n",
       "    .dataframe tbody tr th {\n",
       "        vertical-align: top;\n",
       "    }\n",
       "\n",
       "    .dataframe thead th {\n",
       "        text-align: right;\n",
       "    }\n",
       "</style>\n",
       "<table border=\"1\" class=\"dataframe\">\n",
       "  <thead>\n",
       "    <tr style=\"text-align: right;\">\n",
       "      <th></th>\n",
       "      <th>text</th>\n",
       "      <th>polarity</th>\n",
       "    </tr>\n",
       "  </thead>\n",
       "  <tbody>\n",
       "    <tr>\n",
       "      <th>0</th>\n",
       "      <td>The Rock is destined to be the 21st Century 's...</td>\n",
       "      <td>1</td>\n",
       "    </tr>\n",
       "    <tr>\n",
       "      <th>1</th>\n",
       "      <td>The gorgeously elaborate continuation of `` Th...</td>\n",
       "      <td>1</td>\n",
       "    </tr>\n",
       "    <tr>\n",
       "      <th>2</th>\n",
       "      <td>Singer/composer Bryan Adams contributes a slew...</td>\n",
       "      <td>1</td>\n",
       "    </tr>\n",
       "    <tr>\n",
       "      <th>3</th>\n",
       "      <td>Yet the act is still charming here .</td>\n",
       "      <td>1</td>\n",
       "    </tr>\n",
       "    <tr>\n",
       "      <th>4</th>\n",
       "      <td>Whether or not you 're enlightened by any of D...</td>\n",
       "      <td>1</td>\n",
       "    </tr>\n",
       "  </tbody>\n",
       "</table>\n",
       "</div>"
      ],
      "text/plain": [
       "                                                text  polarity\n",
       "0  The Rock is destined to be the 21st Century 's...         1\n",
       "1  The gorgeously elaborate continuation of `` Th...         1\n",
       "2  Singer/composer Bryan Adams contributes a slew...         1\n",
       "3               Yet the act is still charming here .         1\n",
       "4  Whether or not you 're enlightened by any of D...         1"
      ]
     },
     "execution_count": 3,
     "metadata": {},
     "output_type": "execute_result"
    }
   ],
   "source": [
    "df.head()"
   ]
  },
  {
   "cell_type": "markdown",
   "metadata": {},
   "source": [
    "Define a helper function that splits a text into tokens at whitespace and removes any non-alphabetic tokens."
   ]
  },
  {
   "cell_type": "code",
   "execution_count": 4,
   "metadata": {},
   "outputs": [],
   "source": [
    "def tokens(text):\n",
    "    return [t.lower() for t in text.split() if t.isalpha()]"
   ]
  },
  {
   "cell_type": "markdown",
   "metadata": {},
   "source": [
    "## Exploration 1: Basic statistics"
   ]
  },
  {
   "cell_type": "markdown",
   "metadata": {},
   "source": [
    "Load the `Counter` class, which is useful for statistics."
   ]
  },
  {
   "cell_type": "code",
   "execution_count": 5,
   "metadata": {},
   "outputs": [],
   "source": [
    "from collections import Counter"
   ]
  },
  {
   "cell_type": "markdown",
   "metadata": {},
   "source": [
    "Count how many occurrences of each token (word) the data contains."
   ]
  },
  {
   "cell_type": "code",
   "execution_count": 6,
   "metadata": {},
   "outputs": [],
   "source": [
    "counter = Counter()\n",
    "for text in df['text']:\n",
    "    counter.update(tokens(text))"
   ]
  },
  {
   "cell_type": "markdown",
   "metadata": {},
   "source": [
    "Print the total number of tokens."
   ]
  },
  {
   "cell_type": "code",
   "execution_count": 7,
   "metadata": {},
   "outputs": [
    {
     "name": "stdout",
     "output_type": "stream",
     "text": [
      "13241\n"
     ]
    }
   ],
   "source": [
    "print(len(counter))"
   ]
  },
  {
   "cell_type": "markdown",
   "metadata": {},
   "source": [
    "The token *movie* occurs quite often:"
   ]
  },
  {
   "cell_type": "code",
   "execution_count": 8,
   "metadata": {},
   "outputs": [
    {
     "name": "stdout",
     "output_type": "stream",
     "text": [
      "808\n"
     ]
    }
   ],
   "source": [
    "print(counter['movie'])"
   ]
  },
  {
   "cell_type": "markdown",
   "metadata": {},
   "source": [
    "Print the 10 most common words."
   ]
  },
  {
   "cell_type": "code",
   "execution_count": 9,
   "metadata": {},
   "outputs": [
    {
     "data": {
      "text/plain": [
       "[('the', 5954),\n",
       " ('a', 4361),\n",
       " ('and', 3831),\n",
       " ('of', 3631),\n",
       " ('to', 2438),\n",
       " ('is', 2096),\n",
       " ('it', 1949),\n",
       " ('that', 1612),\n",
       " ('in', 1556),\n",
       " ('as', 1074)]"
      ]
     },
     "execution_count": 9,
     "metadata": {},
     "output_type": "execute_result"
    }
   ],
   "source": [
    "counter.most_common(10)"
   ]
  },
  {
   "cell_type": "markdown",
   "metadata": {},
   "source": [
    "Plot the number of occurrences of the 100 most common words."
   ]
  },
  {
   "cell_type": "code",
   "execution_count": 10,
   "metadata": {},
   "outputs": [
    {
     "data": {
      "image/png": "[encoded data removed]",
      "text/plain": [
       "<Figure size 432x288 with 1 Axes>"
      ]
     },
     "metadata": {
      "needs_background": "light"
     },
     "output_type": "display_data"
    }
   ],
   "source": [
    "%matplotlib inline\n",
    "import matplotlib.pyplot as plt\n",
    "\n",
    "labels, values = zip(*counter.most_common(100))\n",
    "plt.bar(range(len(labels)), values)\n",
    "plt.show()"
   ]
  },
  {
   "cell_type": "markdown",
   "metadata": {},
   "source": [
    "## Exploration 2: Information extraction"
   ]
  },
  {
   "cell_type": "markdown",
   "metadata": {},
   "source": [
    "Load spaCy."
   ]
  },
  {
   "cell_type": "code",
   "execution_count": 11,
   "metadata": {},
   "outputs": [],
   "source": [
    "import spacy"
   ]
  },
  {
   "cell_type": "markdown",
   "metadata": {},
   "source": [
    "Load the English language model."
   ]
  },
  {
   "cell_type": "code",
   "execution_count": 12,
   "metadata": {},
   "outputs": [],
   "source": [
    "nlp = spacy.load('en_core_web_sm')"
   ]
  },
  {
   "cell_type": "markdown",
   "metadata": {},
   "source": [
    "Define a short text."
   ]
  },
  {
   "cell_type": "code",
   "execution_count": 13,
   "metadata": {},
   "outputs": [],
   "source": [
    "text = u'Apple Corp. buys Alphabet Inc. for $1 billion'"
   ]
  },
  {
   "cell_type": "markdown",
   "metadata": {},
   "source": [
    "Process the text using the default pipeline."
   ]
  },
  {
   "cell_type": "code",
   "execution_count": 14,
   "metadata": {},
   "outputs": [],
   "source": [
    "doc = nlp(text)"
   ]
  },
  {
   "cell_type": "markdown",
   "metadata": {},
   "source": [
    "Print the tokens together with their lemmas, part-of-speech tags, and stopword flags."
   ]
  },
  {
   "cell_type": "code",
   "execution_count": 15,
   "metadata": {},
   "outputs": [
    {
     "name": "stdout",
     "output_type": "stream",
     "text": [
      "Apple Apple PROPN False\n",
      "Corp. Corp. PROPN False\n",
      "buys buy VERB False\n",
      "Alphabet Alphabet PROPN False\n",
      "Inc. Inc. PROPN False\n",
      "for for ADP True\n",
      "$ $ SYM False\n",
      "1 1 NUM False\n",
      "billion billion NUM False\n"
     ]
    }
   ],
   "source": [
    "for token in doc:\n",
    "    print(token.text, token.lemma_, token.pos_, token.is_stop)"
   ]
  },
  {
   "cell_type": "markdown",
   "metadata": {},
   "source": [
    "Show the dependency parse."
   ]
  },
  {
   "cell_type": "code",
   "execution_count": 16,
   "metadata": {},
   "outputs": [
    {
     "data": {
      "text/html": [
       "<span class=\"tex2jax_ignore\"><svg xmlns=\"http://www.w3.org/2000/svg\" xmlns:xlink=\"http://www.w3.org/1999/xlink\" xml:lang=\"en\" id=\"cd9f837685ee45298ebc6bb4572722d4-0\" class=\"displacy\" width=\"1040\" height=\"302.0\" direction=\"ltr\" style=\"max-width: none; height: 302.0px; color: #000000; background: #ffffff; font-family: Arial; direction: ltr\">\n",
       "<text class=\"displacy-token\" fill=\"currentColor\" text-anchor=\"middle\" y=\"212.0\">\n",
       "    <tspan class=\"displacy-word\" fill=\"currentColor\" x=\"50\">Apple</tspan>\n",
       "    <tspan class=\"displacy-tag\" dy=\"2em\" fill=\"currentColor\" x=\"50\">PROPN</tspan>\n",
       "</text>\n",
       "\n",
       "<text class=\"displacy-token\" fill=\"currentColor\" text-anchor=\"middle\" y=\"212.0\">\n",
       "    <tspan class=\"displacy-word\" fill=\"currentColor\" x=\"160\">Corp.</tspan>\n",
       "    <tspan class=\"displacy-tag\" dy=\"2em\" fill=\"currentColor\" x=\"160\">PROPN</tspan>\n",
       "</text>\n",
       "\n",
       "<text class=\"displacy-token\" fill=\"currentColor\" text-anchor=\"middle\" y=\"212.0\">\n",
       "    <tspan class=\"displacy-word\" fill=\"currentColor\" x=\"270\">buys</tspan>\n",
       "    <tspan class=\"displacy-tag\" dy=\"2em\" fill=\"currentColor\" x=\"270\">VERB</tspan>\n",
       "</text>\n",
       "\n",
       "<text class=\"displacy-token\" fill=\"currentColor\" text-anchor=\"middle\" y=\"212.0\">\n",
       "    <tspan class=\"displacy-word\" fill=\"currentColor\" x=\"380\">Alphabet</tspan>\n",
       "    <tspan class=\"displacy-tag\" dy=\"2em\" fill=\"currentColor\" x=\"380\">PROPN</tspan>\n",
       "</text>\n",
       "\n",
       "<text class=\"displacy-token\" fill=\"currentColor\" text-anchor=\"middle\" y=\"212.0\">\n",
       "    <tspan class=\"displacy-word\" fill=\"currentColor\" x=\"490\">Inc.</tspan>\n",
       "    <tspan class=\"displacy-tag\" dy=\"2em\" fill=\"currentColor\" x=\"490\">PROPN</tspan>\n",
       "</text>\n",
       "\n",
       "<text class=\"displacy-token\" fill=\"currentColor\" text-anchor=\"middle\" y=\"212.0\">\n",
       "    <tspan class=\"displacy-word\" fill=\"currentColor\" x=\"600\">for</tspan>\n",
       "    <tspan class=\"displacy-tag\" dy=\"2em\" fill=\"currentColor\" x=\"600\">ADP</tspan>\n",
       "</text>\n",
       "\n",
       "<text class=\"displacy-token\" fill=\"currentColor\" text-anchor=\"middle\" y=\"212.0\">\n",
       "    <tspan class=\"displacy-word\" fill=\"currentColor\" x=\"710\">$</tspan>\n",
       "    <tspan class=\"displacy-tag\" dy=\"2em\" fill=\"currentColor\" x=\"710\">SYM</tspan>\n",
       "</text>\n",
       "\n",
       "<text class=\"displacy-token\" fill=\"currentColor\" text-anchor=\"middle\" y=\"212.0\">\n",
       "    <tspan class=\"displacy-word\" fill=\"currentColor\" x=\"820\">1</tspan>\n",
       "    <tspan class=\"displacy-tag\" dy=\"2em\" fill=\"currentColor\" x=\"820\">NUM</tspan>\n",
       "</text>\n",
       "\n",
       "<text class=\"displacy-token\" fill=\"currentColor\" text-anchor=\"middle\" y=\"212.0\">\n",
       "    <tspan class=\"displacy-word\" fill=\"currentColor\" x=\"930\">billion</tspan>\n",
       "    <tspan class=\"displacy-tag\" dy=\"2em\" fill=\"currentColor\" x=\"930\">NUM</tspan>\n",
       "</text>\n",
       "\n",
       "<g class=\"displacy-arrow\">\n",
       "    <path class=\"displacy-arc\" id=\"arrow-cd9f837685ee45298ebc6bb4572722d4-0-0\" stroke-width=\"2px\" d=\"M70,167.0 C70,112.0 150.0,112.0 150.0,167.0\" fill=\"none\" stroke=\"currentColor\"/>\n",
       "    <text dy=\"1.25em\" style=\"font-size: 0.8em; letter-spacing: 1px\">\n",
       "        <textPath xlink:href=\"#arrow-cd9f837685ee45298ebc6bb4572722d4-0-0\" class=\"displacy-label\" startOffset=\"50%\" side=\"left\" fill=\"currentColor\" text-anchor=\"middle\">compound</textPath>\n",
       "    </text>\n",
       "    <path class=\"displacy-arrowhead\" d=\"M70,169.0 L62,157.0 78,157.0\" fill=\"currentColor\"/>\n",
       "</g>\n",
       "\n",
       "<g class=\"displacy-arrow\">\n",
       "    <path class=\"displacy-arc\" id=\"arrow-cd9f837685ee45298ebc6bb4572722d4-0-1\" stroke-width=\"2px\" d=\"M180,167.0 C180,112.0 260.0,112.0 260.0,167.0\" fill=\"none\" stroke=\"currentColor\"/>\n",
       "    <text dy=\"1.25em\" style=\"font-size: 0.8em; letter-spacing: 1px\">\n",
       "        <textPath xlink:href=\"#arrow-cd9f837685ee45298ebc6bb4572722d4-0-1\" class=\"displacy-label\" startOffset=\"50%\" side=\"left\" fill=\"currentColor\" text-anchor=\"middle\">nsubj</textPath>\n",
       "    </text>\n",
       "    <path class=\"displacy-arrowhead\" d=\"M180,169.0 L172,157.0 188,157.0\" fill=\"currentColor\"/>\n",
       "</g>\n",
       "\n",
       "<g class=\"displacy-arrow\">\n",
       "    <path class=\"displacy-arc\" id=\"arrow-cd9f837685ee45298ebc6bb4572722d4-0-2\" stroke-width=\"2px\" d=\"M400,167.0 C400,112.0 480.0,112.0 480.0,167.0\" fill=\"none\" stroke=\"currentColor\"/>\n",
       "    <text dy=\"1.25em\" style=\"font-size: 0.8em; letter-spacing: 1px\">\n",
       "        <textPath xlink:href=\"#arrow-cd9f837685ee45298ebc6bb4572722d4-0-2\" class=\"displacy-label\" startOffset=\"50%\" side=\"left\" fill=\"currentColor\" text-anchor=\"middle\">compound</textPath>\n",
       "    </text>\n",
       "    <path class=\"displacy-arrowhead\" d=\"M400,169.0 L392,157.0 408,157.0\" fill=\"currentColor\"/>\n",
       "</g>\n",
       "\n",
       "<g class=\"displacy-arrow\">\n",
       "    <path class=\"displacy-arc\" id=\"arrow-cd9f837685ee45298ebc6bb4572722d4-0-3\" stroke-width=\"2px\" d=\"M290,167.0 C290,57.0 485.0,57.0 485.0,167.0\" fill=\"none\" stroke=\"currentColor\"/>\n",
       "    <text dy=\"1.25em\" style=\"font-size: 0.8em; letter-spacing: 1px\">\n",
       "        <textPath xlink:href=\"#arrow-cd9f837685ee45298ebc6bb4572722d4-0-3\" class=\"displacy-label\" startOffset=\"50%\" side=\"left\" fill=\"currentColor\" text-anchor=\"middle\">dobj</textPath>\n",
       "    </text>\n",
       "    <path class=\"displacy-arrowhead\" d=\"M485.0,169.0 L493.0,157.0 477.0,157.0\" fill=\"currentColor\"/>\n",
       "</g>\n",
       "\n",
       "<g class=\"displacy-arrow\">\n",
       "    <path class=\"displacy-arc\" id=\"arrow-cd9f837685ee45298ebc6bb4572722d4-0-4\" stroke-width=\"2px\" d=\"M290,167.0 C290,2.0 600.0,2.0 600.0,167.0\" fill=\"none\" stroke=\"currentColor\"/>\n",
       "    <text dy=\"1.25em\" style=\"font-size: 0.8em; letter-spacing: 1px\">\n",
       "        <textPath xlink:href=\"#arrow-cd9f837685ee45298ebc6bb4572722d4-0-4\" class=\"displacy-label\" startOffset=\"50%\" side=\"left\" fill=\"currentColor\" text-anchor=\"middle\">prep</textPath>\n",
       "    </text>\n",
       "    <path class=\"displacy-arrowhead\" d=\"M600.0,169.0 L608.0,157.0 592.0,157.0\" fill=\"currentColor\"/>\n",
       "</g>\n",
       "\n",
       "<g class=\"displacy-arrow\">\n",
       "    <path class=\"displacy-arc\" id=\"arrow-cd9f837685ee45298ebc6bb4572722d4-0-5\" stroke-width=\"2px\" d=\"M730,167.0 C730,57.0 925.0,57.0 925.0,167.0\" fill=\"none\" stroke=\"currentColor\"/>\n",
       "    <text dy=\"1.25em\" style=\"font-size: 0.8em; letter-spacing: 1px\">\n",
       "        <textPath xlink:href=\"#arrow-cd9f837685ee45298ebc6bb4572722d4-0-5\" class=\"displacy-label\" startOffset=\"50%\" side=\"left\" fill=\"currentColor\" text-anchor=\"middle\">quantmod</textPath>\n",
       "    </text>\n",
       "    <path class=\"displacy-arrowhead\" d=\"M730,169.0 L722,157.0 738,157.0\" fill=\"currentColor\"/>\n",
       "</g>\n",
       "\n",
       "<g class=\"displacy-arrow\">\n",
       "    <path class=\"displacy-arc\" id=\"arrow-cd9f837685ee45298ebc6bb4572722d4-0-6\" stroke-width=\"2px\" d=\"M840,167.0 C840,112.0 920.0,112.0 920.0,167.0\" fill=\"none\" stroke=\"currentColor\"/>\n",
       "    <text dy=\"1.25em\" style=\"font-size: 0.8em; letter-spacing: 1px\">\n",
       "        <textPath xlink:href=\"#arrow-cd9f837685ee45298ebc6bb4572722d4-0-6\" class=\"displacy-label\" startOffset=\"50%\" side=\"left\" fill=\"currentColor\" text-anchor=\"middle\">compound</textPath>\n",
       "    </text>\n",
       "    <path class=\"displacy-arrowhead\" d=\"M840,169.0 L832,157.0 848,157.0\" fill=\"currentColor\"/>\n",
       "</g>\n",
       "\n",
       "<g class=\"displacy-arrow\">\n",
       "    <path class=\"displacy-arc\" id=\"arrow-cd9f837685ee45298ebc6bb4572722d4-0-7\" stroke-width=\"2px\" d=\"M620,167.0 C620,2.0 930.0,2.0 930.0,167.0\" fill=\"none\" stroke=\"currentColor\"/>\n",
       "    <text dy=\"1.25em\" style=\"font-size: 0.8em; letter-spacing: 1px\">\n",
       "        <textPath xlink:href=\"#arrow-cd9f837685ee45298ebc6bb4572722d4-0-7\" class=\"displacy-label\" startOffset=\"50%\" side=\"left\" fill=\"currentColor\" text-anchor=\"middle\">pobj</textPath>\n",
       "    </text>\n",
       "    <path class=\"displacy-arrowhead\" d=\"M930.0,169.0 L938.0,157.0 922.0,157.0\" fill=\"currentColor\"/>\n",
       "</g>\n",
       "</svg></span>"
      ],
      "text/plain": [
       "<IPython.core.display.HTML object>"
      ]
     },
     "metadata": {},
     "output_type": "display_data"
    }
   ],
   "source": [
    "from spacy import displacy\n",
    "\n",
    "displacy.render(doc, style='dep', options={'distance': 110}, jupyter=True)"
   ]
  },
  {
   "cell_type": "markdown",
   "metadata": {},
   "source": [
    "Show the named entities."
   ]
  },
  {
   "cell_type": "code",
   "execution_count": 17,
   "metadata": {},
   "outputs": [
    {
     "data": {
      "text/html": [
       "<span class=\"tex2jax_ignore\"><div class=\"entities\" style=\"line-height: 2.5; direction: ltr\">\n",
       "<mark class=\"entity\" style=\"background: #7aecec; padding: 0.45em 0.6em; margin: 0 0.25em; line-height: 1; border-radius: 0.35em;\">\n",
       "    Apple Corp.\n",
       "    <span style=\"font-size: 0.8em; font-weight: bold; line-height: 1; border-radius: 0.35em; text-transform: uppercase; vertical-align: middle; margin-left: 0.5rem\">ORG</span>\n",
       "</mark>\n",
       " buys \n",
       "<mark class=\"entity\" style=\"background: #7aecec; padding: 0.45em 0.6em; margin: 0 0.25em; line-height: 1; border-radius: 0.35em;\">\n",
       "    Alphabet Inc.\n",
       "    <span style=\"font-size: 0.8em; font-weight: bold; line-height: 1; border-radius: 0.35em; text-transform: uppercase; vertical-align: middle; margin-left: 0.5rem\">ORG</span>\n",
       "</mark>\n",
       " for \n",
       "<mark class=\"entity\" style=\"background: #e4e7d2; padding: 0.45em 0.6em; margin: 0 0.25em; line-height: 1; border-radius: 0.35em;\">\n",
       "    $1 billion\n",
       "    <span style=\"font-size: 0.8em; font-weight: bold; line-height: 1; border-radius: 0.35em; text-transform: uppercase; vertical-align: middle; margin-left: 0.5rem\">MONEY</span>\n",
       "</mark>\n",
       "</div></span>"
      ],
      "text/plain": [
       "<IPython.core.display.HTML object>"
      ]
     },
     "metadata": {},
     "output_type": "display_data"
    }
   ],
   "source": [
    "from spacy import displacy\n",
    "\n",
    "displacy.render(doc, style='ent', jupyter=True)"
   ]
  },
  {
   "cell_type": "markdown",
   "metadata": {},
   "source": [
    "The following function will find the root word of an entity."
   ]
  },
  {
   "cell_type": "code",
   "execution_count": 18,
   "metadata": {},
   "outputs": [],
   "source": [
    "def root(ent):\n",
    "    for token in ent:\n",
    "        while not token.head is token and ent.start <= token.head.i and token.head.i < ent.end:\n",
    "            token = token.head\n",
    "        return token"
   ]
  },
  {
   "cell_type": "markdown",
   "metadata": {},
   "source": [
    "Extract semantic relations."
   ]
  },
  {
   "cell_type": "code",
   "execution_count": 19,
   "metadata": {},
   "outputs": [
    {
     "name": "stdout",
     "output_type": "stream",
     "text": [
      "[Apple Corp.]-[buy]-[Alphabet Inc.]\n"
     ]
    }
   ],
   "source": [
    "for ent1 in doc.ents:\n",
    "    root1 = root(ent1)\n",
    "    for ent2 in doc.ents:\n",
    "        root2 = root(ent2)\n",
    "        if root1.head == root2.head and root1.head.pos_ == 'VERB' and root1.dep_ == 'nsubj' and root2.dep_ == 'dobj':\n",
    "            print('[{}]-[{}]-[{}]'.format(ent1, root1.head.lemma_, ent2))"
   ]
  },
  {
   "cell_type": "markdown",
   "metadata": {},
   "source": [
    "## Exploration 3: Topic modelling"
   ]
  },
  {
   "cell_type": "markdown",
   "metadata": {},
   "source": [
    "Import gensim."
   ]
  },
  {
   "cell_type": "code",
   "execution_count": 20,
   "metadata": {},
   "outputs": [],
   "source": [
    "import gensim"
   ]
  },
  {
   "cell_type": "markdown",
   "metadata": {},
   "source": [
    "Disable some warnings."
   ]
  },
  {
   "cell_type": "code",
   "execution_count": 21,
   "metadata": {},
   "outputs": [],
   "source": [
    "import warnings\n",
    "\n",
    "warnings.filterwarnings('ignore', category=DeprecationWarning)\n",
    "warnings.filterwarnings('ignore', category=FutureWarning)"
   ]
  },
  {
   "cell_type": "markdown",
   "metadata": {},
   "source": [
    "Build the vocabulary and show its size."
   ]
  },
  {
   "cell_type": "code",
   "execution_count": 22,
   "metadata": {},
   "outputs": [
    {
     "data": {
      "text/plain": [
       "13241"
      ]
     },
     "execution_count": 22,
     "metadata": {},
     "output_type": "execute_result"
    }
   ],
   "source": [
    "dictionary = gensim.corpora.Dictionary(tokens(text) for text in df['text'])\n",
    "len(dictionary)"
   ]
  },
  {
   "cell_type": "markdown",
   "metadata": {},
   "source": [
    "Filter out stop words, as well as extremely frequent/infrequent words."
   ]
  },
  {
   "cell_type": "code",
   "execution_count": 23,
   "metadata": {},
   "outputs": [
    {
     "data": {
      "text/plain": [
       "2543"
      ]
     },
     "execution_count": 23,
     "metadata": {},
     "output_type": "execute_result"
    }
   ],
   "source": [
    "bad_ids = [i for t, i in dictionary.token2id.items() if nlp.vocab[t].is_stop]\n",
    "dictionary.filter_tokens(bad_ids=bad_ids)\n",
    "dictionary.filter_extremes()\n",
    "len(dictionary)"
   ]
  },
  {
   "cell_type": "markdown",
   "metadata": {},
   "source": [
    "Create an iterator over the data (for efficiency)."
   ]
  },
  {
   "cell_type": "code",
   "execution_count": 24,
   "metadata": {},
   "outputs": [],
   "source": [
    "class MyCorpus(object):\n",
    "    def __iter__(self):\n",
    "        for text in df['text']:\n",
    "            yield dictionary.doc2bow(tokens(text))"
   ]
  },
  {
   "cell_type": "markdown",
   "metadata": {},
   "source": [
    "Build the LDA model (takes a while)."
   ]
  },
  {
   "cell_type": "code",
   "execution_count": 25,
   "metadata": {},
   "outputs": [],
   "source": [
    "lda = gensim.models.ldamodel.LdaModel(\n",
    "    corpus=MyCorpus(),\n",
    "    num_topics=7,\n",
    "    id2word=dictionary,\n",
    "    chunksize=5,\n",
    "    passes=10,\n",
    "    update_every=1,\n",
    "    alpha='auto',\n",
    ")"
   ]
  },
  {
   "cell_type": "markdown",
   "metadata": {},
   "source": [
    "Print the most common topics."
   ]
  },
  {
   "cell_type": "code",
   "execution_count": 26,
   "metadata": {},
   "outputs": [
    {
     "data": {
      "text/plain": [
       "[(0,\n",
       "  '0.086*\"comedy\" + 0.039*\"funny\" + 0.022*\"way\" + 0.022*\"romantic\" + 0.022*\"time\" + 0.020*\"true\" + 0.018*\"experience\" + 0.017*\"charm\" + 0.017*\"lot\" + 0.016*\"engaging\"'),\n",
       " (1,\n",
       "  '0.075*\"film\" + 0.067*\"movie\" + 0.028*\"bad\" + 0.020*\"director\" + 0.016*\"plot\" + 0.015*\"dull\" + 0.014*\"little\" + 0.014*\"compelling\" + 0.011*\"away\" + 0.010*\"makes\"'),\n",
       " (2,\n",
       "  '0.041*\"story\" + 0.019*\"storytelling\" + 0.015*\"screen\" + 0.013*\"people\" + 0.012*\"minutes\" + 0.012*\"needs\" + 0.012*\"humor\" + 0.012*\"performances\" + 0.011*\"smart\" + 0.010*\"screenplay\"'),\n",
       " (3,\n",
       "  '0.044*\"documentary\" + 0.027*\"script\" + 0.020*\"predictable\" + 0.020*\"movies\" + 0.019*\"mind\" + 0.017*\"family\" + 0.015*\"audience\" + 0.015*\"heart\" + 0.014*\"moments\" + 0.013*\"thing\"'),\n",
       " (4,\n",
       "  '0.050*\"like\" + 0.044*\"fun\" + 0.025*\"seen\" + 0.021*\"good\" + 0.018*\"opportunity\" + 0.017*\"awful\" + 0.014*\"action\" + 0.013*\"great\" + 0.013*\"dialogue\" + 0.013*\"old\"'),\n",
       " (5,\n",
       "  '0.021*\"hard\" + 0.020*\"romance\" + 0.018*\"picture\" + 0.018*\"simple\" + 0.018*\"year\" + 0.017*\"major\" + 0.014*\"performance\" + 0.014*\"love\" + 0.014*\"watchable\" + 0.013*\"better\"'),\n",
       " (6,\n",
       "  '0.056*\"thriller\" + 0.039*\"drama\" + 0.037*\"characters\" + 0.030*\"fresh\" + 0.029*\"feels\" + 0.021*\"character\" + 0.019*\"weird\" + 0.018*\"world\" + 0.018*\"words\" + 0.017*\"sequel\"')]"
      ]
     },
     "execution_count": 26,
     "metadata": {},
     "output_type": "execute_result"
    }
   ],
   "source": [
    "lda.print_topics(7)"
   ]
  },
  {
   "cell_type": "markdown",
   "metadata": {},
   "source": [
    "Load the pyLDAvis library for data visualization."
   ]
  },
  {
   "cell_type": "code",
   "execution_count": 27,
   "metadata": {},
   "outputs": [],
   "source": [
    "import pyLDAvis.gensim\n",
    "\n",
    "pyLDAvis.enable_notebook()"
   ]
  },
  {
   "cell_type": "markdown",
   "metadata": {},
   "source": [
    "Visualize the LDA model."
   ]
  },
  {
   "cell_type": "code",
   "execution_count": 28,
   "metadata": {},
   "outputs": [
    {
     "name": "stderr",
     "output_type": "stream",
     "text": [
      "/Users/Chathuranga/opt/anaconda3/lib/python3.8/site-packages/ipykernel/ipkernel.py:287: DeprecationWarning: `should_run_async` will not call `transform_cell` automatically in the future. Please pass the result to `transformed_cell` argument and any exception that happen during thetransform in `preprocessing_exc_tuple` in IPython 7.17 and above.\n",
      "  and should_run_async(code)\n"
     ]
    },
    {
     "data": {
      "text/html": [
       "\n",
       "<link rel=\"stylesheet\" type=\"text/css\" href=\"https://cdn.rawgit.com/bmabey/pyLDAvis/files/ldavis.v1.0.0.css\">\n",
       "\n",
       "\n",
       "<div id=\"ldavis_el153761403363367451849684096534\"></div>\n",
       "<script type=\"text/javascript\">\n",
       "\n",
       "var ldavis_el153761403363367451849684096534_data = {\"mdsDat\": {\"x\": [-29.59400177001953, -45.996585845947266, 20.36885643005371, 53.928768157958984, -12.437127113342285, 3.9659712314605713, 37.52428436279297], \"y\": [60.11271286010742, 11.891684532165527, 70.01932525634766, 31.704309463500977, -26.423267364501953, 21.797719955444336, -16.517805099487305], \"topics\": [1, 2, 3, 4, 5, 6, 7], \"cluster\": [1, 1, 1, 1, 1, 1, 1], \"Freq\": [26.8068649607061, 15.703528367988811, 12.980677554506373, 12.545725781736683, 11.254520130406066, 10.869609964270406, 9.839073240385558]}, \"tinfo\": {\"Term\": [\"film\", \"movie\", \"comedy\", \"like\", \"thriller\", \"fun\", \"story\", \"documentary\", \"funny\", \"drama\", \"bad\", \"characters\", \"fresh\", \"feels\", \"seen\", \"director\", \"script\", \"good\", \"way\", \"romantic\", \"time\", \"plot\", \"character\", \"true\", \"opportunity\", \"storytelling\", \"dull\", \"hard\", \"predictable\", \"little\", \"film\", \"movie\", \"bad\", \"director\", \"plot\", \"dull\", \"little\", \"compelling\", \"away\", \"makes\", \"real\", \"cinematic\", \"lacks\", \"work\", \"case\", \"life\", \"making\", \"uneven\", \"young\", \"tale\", \"premise\", \"satisfying\", \"fire\", \"attempt\", \"kind\", \"new\", \"scenes\", \"filmmakers\", \"slow\", \"interesting\", \"nice\", \"odd\", \"moving\", \"depth\", \"surprises\", \"pretentious\", \"mess\", \"like\", \"fun\", \"seen\", \"good\", \"opportunity\", \"action\", \"great\", \"dialogue\", \"old\", \"come\", \"watching\", \"surprisingly\", \"play\", \"series\", \"feel\", \"cinema\", \"place\", \"fact\", \"remake\", \"sort\", \"clever\", \"matter\", \"shot\", \"decent\", \"fairly\", \"idea\", \"leave\", \"gets\", \"acting\", \"funnier\", \"awful\", \"bland\", \"features\", \"pretentious\", \"horrible\", \"story\", \"storytelling\", \"screen\", \"people\", \"minutes\", \"humor\", \"performances\", \"screenplay\", \"smart\", \"think\", \"hollywood\", \"lead\", \"sense\", \"needs\", \"nearly\", \"debut\", \"feature\", \"far\", \"need\", \"exercise\", \"taken\", \"difficult\", \"find\", \"works\", \"know\", \"comes\", \"effects\", \"turn\", \"piece\", \"imagine\", \"political\", \"hilarious\", \"meandering\", \"terrible\", \"lame\", \"comedy\", \"funny\", \"way\", \"romantic\", \"time\", \"true\", \"experience\", \"lot\", \"charm\", \"formula\", \"long\", \"fans\", \"engaging\", \"material\", \"laughs\", \"thoroughly\", \"despite\", \"silly\", \"stuff\", \"men\", \"sure\", \"goes\", \"flick\", \"intelligent\", \"endearing\", \"simply\", \"ideas\", \"watch\", \"wise\", \"wild\", \"enjoyable\", \"company\", \"ride\", \"terrible\", \"thriller\", \"drama\", \"characters\", \"feels\", \"fresh\", \"character\", \"weird\", \"world\", \"words\", \"sequel\", \"look\", \"mystery\", \"visually\", \"things\", \"end\", \"set\", \"big\", \"ii\", \"american\", \"sit\", \"war\", \"women\", \"title\", \"emotional\", \"fascinating\", \"plays\", \"thinking\", \"situations\", \"attention\", \"female\", \"pretentious\", \"documentary\", \"script\", \"predictable\", \"movies\", \"mind\", \"family\", \"audience\", \"heart\", \"moments\", \"thing\", \"ultimately\", \"sweet\", \"actors\", \"worth\", \"effort\", \"looking\", \"enjoy\", \"monster\", \"written\", \"social\", \"impressive\", \"tone\", \"probably\", \"spy\", \"audiences\", \"likely\", \"entertaining\", \"small\", \"star\", \"leaves\", \"ways\", \"definitely\", \"pretentious\", \"terrible\", \"tedious\", \"stale\", \"lame\", \"horrible\", \"hard\", \"romance\", \"picture\", \"year\", \"major\", \"performance\", \"love\", \"better\", \"turns\", \"lives\", \"truly\", \"head\", \"situation\", \"right\", \"book\", \"tries\", \"simple\", \"watchable\", \"history\", \"ending\", \"absolutely\", \"hell\", \"short\", \"filmmaker\", \"power\", \"films\", \"understand\", \"word\", \"suspense\", \"sad\", \"unsettling\", \"terrible\", \"mess\", \"lame\", \"harmless\", \"melodramatic\"], \"Freq\": [793.0, 709.0, 426.0, 307.0, 248.0, 270.0, 208.0, 188.0, 193.0, 175.0, 299.0, 167.0, 132.0, 128.0, 153.0, 210.0, 118.0, 130.0, 110.0, 110.0, 109.0, 174.0, 96.0, 101.0, 114.0, 96.0, 156.0, 83.0, 86.0, 153.0, 792.0014304206169, 707.9978284874695, 298.1382649276108, 209.09437458811158, 173.20688466538633, 154.83740250515137, 151.94798812712705, 151.32839292631348, 113.23366999389886, 100.22718984957044, 95.50035285001553, 92.99637575790995, 89.04751467970883, 87.43070535207305, 87.7835628643464, 80.1101078082291, 74.82451835969854, 70.156412369041, 69.06622753150415, 76.26491366428793, 59.63949544349149, 59.91799013807739, 77.81447134581276, 57.806816877031956, 52.49355868495028, 51.812492120446734, 51.778330995110984, 46.881027229953844, 47.005949102461805, 44.75264080842799, 88.22120440016722, 54.20031843979272, 80.02471481694992, 63.92814578288511, 66.92339777047106, 69.71250926984997, 63.958186553971764, 305.82535184991696, 269.1792269801359, 152.13733006289465, 129.314771388864, 113.09666301460028, 87.74067724273299, 80.95939004220857, 79.63536301738587, 79.23335164824998, 69.13157677675781, 64.47121615057476, 63.03662434782029, 53.442028570851036, 52.0268903231646, 50.89077623976957, 46.3268088132478, 45.19411535643897, 45.97294513674998, 43.864731555583056, 40.48057822746422, 39.1807084788773, 36.23513183857443, 36.49740672785754, 54.4456732078304, 64.51768373730337, 30.623678792275044, 29.02036580583602, 28.679108677446465, 27.27133815447598, 26.703330019971034, 106.27339618148895, 56.37028631119685, 37.56945814277358, 69.24685966032573, 47.416630800428734, 207.1908395550139, 94.49163084916866, 78.91163535371139, 64.38856660188462, 62.665339016331416, 60.28341088826658, 59.394123539718265, 51.594623039659666, 54.888758317813405, 44.61360059050749, 43.86104253324135, 43.29900086740731, 42.96795503498751, 62.15793104219622, 38.86405969642826, 38.46711765102965, 37.23210942385828, 36.77938508081105, 35.84880974779006, 32.96079347230252, 31.735035922449356, 30.048111894721288, 29.350071003912706, 29.394350595600372, 28.886400422383286, 25.794127289256803, 25.585447228581394, 25.494728761143097, 24.426056748804463, 22.329995952467574, 50.48450371241639, 26.995535819814048, 37.088155567616546, 32.948872226699386, 32.27362272185937, 424.46143414660344, 192.18118858228988, 109.05864914038452, 108.36527302267149, 107.375644557873, 100.0357683366714, 86.77503742395535, 82.37462729753794, 83.10521882925921, 78.62616723756844, 75.61109813954886, 75.35214854501739, 79.72536420635663, 65.2854755878621, 64.43629669811402, 60.330612792614716, 51.62331373518476, 51.90389111169608, 43.57416118418334, 40.04245700763097, 39.805043259768055, 37.6228115499156, 33.474481151893876, 33.742254237925955, 32.72184123414362, 27.850683241438645, 27.51603640997771, 26.596984385270094, 26.66696094745483, 20.42145279281616, 47.61635916047464, 33.1162896872128, 30.737854232781025, 29.352281067722192, 246.99527578408808, 174.20393330381822, 165.4908071858634, 127.1341675232283, 130.79464741011742, 94.93797238600668, 82.60632056531239, 80.31951650149443, 78.4005517471433, 73.49502144626457, 59.66874253698973, 58.51306434956537, 54.035570643411624, 48.13088416884626, 47.73936676567123, 44.94913723405736, 43.444135000271324, 39.06960924951529, 37.27297306532328, 37.24322081068994, 36.28767241146589, 35.470270967539356, 32.00150652712093, 32.3418512894266, 24.10538391926423, 23.520182018809454, 35.69894477605457, 22.24025775624961, 22.200254066409272, 21.38308767147984, 28.808796824633806, 186.6908029397088, 116.37892420659864, 84.56479808393914, 83.65369063520146, 81.22049967569504, 70.92373894014983, 65.43340553370928, 62.597984352177626, 59.015755353373194, 57.585921621137956, 50.06231754881534, 52.69557618628363, 42.30524741996235, 39.11761791418991, 37.227534930715784, 36.887155032941536, 31.72488124236471, 33.19466279671195, 24.90073145509696, 23.21157839009986, 31.236821249706335, 22.083556716614627, 21.56050529131819, 19.850969099500965, 19.243079579729685, 19.08638479012939, 18.584642454331014, 17.591628130606495, 16.013304832888032, 15.27822786752003, 19.91141952748831, 28.978129450345214, 57.24770827689832, 26.764226366149998, 24.094552503968966, 22.57343876486507, 22.17613705386757, 21.88622311769965, 81.71249626248078, 76.92987698739995, 71.5390576855898, 69.49148553737183, 64.61332534479816, 55.615257797820924, 54.83362263413355, 51.661269060377975, 51.004869574480324, 49.76435897630084, 44.898434308365715, 37.41882276737793, 35.489831382841636, 33.7523436236218, 32.03946030036485, 28.970512050996327, 69.83206861182725, 52.47960719293542, 25.258409253126146, 22.91503590642801, 23.961620288673153, 22.25714573419034, 21.028820190011526, 20.314819286118993, 18.923907989601947, 18.09285305882339, 18.089795980186537, 18.29972499337205, 16.056952245613466, 13.39961638215353, 21.735050418194458, 24.705919797994277, 23.648046215570698, 22.90133673329116, 21.244710146034347, 21.00028985943126], \"Total\": [793.0, 709.0, 426.0, 307.0, 248.0, 270.0, 208.0, 188.0, 193.0, 175.0, 299.0, 167.0, 132.0, 128.0, 153.0, 210.0, 118.0, 130.0, 110.0, 110.0, 109.0, 174.0, 96.0, 101.0, 114.0, 96.0, 156.0, 83.0, 86.0, 153.0, 793.6530700098773, 709.648240171528, 299.7917954993709, 210.74657866752923, 174.86234133494617, 156.4923929102025, 153.59871243928765, 152.98680660400225, 114.89187138428143, 101.89616926271431, 97.17700349418044, 94.65892537499901, 90.70851297223665, 89.0801310422674, 89.48774187792746, 81.7605498771396, 76.47528979328116, 71.83383250930552, 70.73533004691592, 78.16568664031118, 61.29262603431426, 61.66378167602301, 80.12448391461129, 59.53703640630455, 54.14310674161706, 53.46126905260292, 53.4290396088394, 48.530180248370215, 48.66417960042566, 46.402532092079845, 91.95542521593279, 56.57978324628461, 89.8952116699718, 69.57284639021032, 118.78494042589773, 281.7757337118826, 180.73771897090546, 307.48564245223895, 270.8533175338112, 153.80438593591953, 130.97544158438438, 114.98957447283281, 89.40014063929601, 82.6219012624189, 81.29490803208887, 80.8940372540795, 70.79402136052599, 66.13132951943022, 64.70307355959287, 55.108928050583486, 53.690883642192794, 52.54959391019023, 47.99511533761015, 46.858429092729146, 47.676327847732914, 45.54714908106469, 42.1418945376891, 40.84050411515587, 37.89463110756129, 38.21883511388825, 57.02478181753843, 67.57872719572394, 32.28239103217544, 30.697175445456487, 30.337655904281114, 28.931244118190932, 28.38796297575105, 175.04070817337504, 94.43818860533105, 50.37871468325812, 281.7757337118826, 152.55739484681678, 208.82289552082872, 96.14078910542305, 80.54630965185358, 66.01964830800854, 64.29569659617785, 61.91459990657364, 61.0271367079179, 53.22602806157862, 56.79083089042931, 46.245344748314714, 45.49593433534585, 44.93875444662576, 44.59893039016924, 64.56566002103418, 40.49559203383058, 40.10382092935508, 38.867774817849934, 38.41200583855144, 37.48137262832408, 34.590683058192816, 33.38027979061073, 31.705194467351205, 30.98249796701031, 31.033183078784724, 30.51675026879755, 27.423902069416222, 27.21818877190446, 27.12862510580286, 26.085021043886258, 23.987378990405656, 56.904199273027395, 29.649865568738484, 143.91478767515454, 207.65981332658004, 175.04819538404138, 426.1650266482287, 193.88198518819763, 110.75648330369681, 110.066184069568, 109.07130503579253, 101.75080819109087, 88.48891900943059, 84.07560825120427, 84.84582184470132, 80.35937940398885, 77.30682436357405, 77.0976391574829, 81.66916125300052, 66.98886043384994, 66.13626948881296, 62.12195875265367, 53.32146759746376, 53.82211806614403, 45.28203220589505, 41.742905220155706, 41.51537145147058, 39.321739673476635, 35.17332180600412, 35.54864212361415, 34.50303814449855, 29.551123505732548, 29.215075995889343, 28.29389962583002, 28.56289763143607, 22.124417604053313, 52.12748287363418, 44.18241297035535, 49.890075145214034, 207.65981332658004, 248.69398120511292, 175.89290320404766, 167.17773218561825, 128.82288686650335, 132.57640821364313, 96.6283337031936, 84.32404483584321, 82.01836124569722, 80.13957950353355, 75.3758351318654, 61.35770449475104, 60.235205564295576, 55.759554792602266, 49.818949186986806, 49.42594428107921, 46.64747474593599, 45.13105543150348, 40.77653193033992, 38.962840904678494, 38.94115001222681, 37.99238689048914, 37.1585800016738, 33.687875655374235, 34.20077072684362, 25.80747198878564, 25.209278617708325, 38.35457014175686, 23.92995077080166, 23.894346821732398, 23.19662709570541, 281.7757337118826, 188.37967248823765, 118.04964939194997, 86.24325151933404, 85.32432730409563, 82.97221960268122, 72.59656717389399, 67.1026294548953, 64.33091672395382, 60.69489682207053, 59.25528414826335, 51.73218724141873, 54.486984523630504, 43.97801230353548, 40.79833446105475, 38.89931640613272, 38.55750056353856, 33.40139485543702, 35.316099289245166, 26.60205473692847, 24.89135250067016, 33.5327280680983, 23.754137666547837, 23.230232105556745, 21.530790419277277, 20.915353060590917, 20.757189415761026, 20.25601782877482, 19.269297645270868, 17.702476511958267, 16.950147489278805, 23.74751817601302, 52.118120486662924, 281.7757337118826, 207.65981332658004, 132.08643089312903, 102.76374957709538, 175.04819538404138, 152.55739484681678, 83.3802938957662, 78.68264124587779, 73.21194117629894, 71.27166339184687, 66.39950887508687, 57.290585050353286, 56.49990757508961, 53.3268938799832, 52.68900870216204, 51.448545968807224, 46.630811308429884, 39.09175276067961, 37.17019280238749, 35.419607249565374, 33.71317381130311, 30.640024691243177, 73.92012713777977, 55.70915414825756, 26.94264968967287, 24.582629330658072, 25.732252905459642, 24.001777448353742, 22.695358217907913, 22.046409898922533, 20.603054818519883, 19.75824105334096, 19.758213621159122, 20.108031982737575, 17.72267117991861, 15.076871491929818, 32.61973721168911, 207.65981332658004, 180.73771897090546, 175.04819538404138, 137.14422541995168, 175.99660428924392], \"Category\": [\"Default\", \"Default\", \"Default\", \"Default\", \"Default\", \"Default\", \"Default\", \"Default\", \"Default\", \"Default\", \"Default\", \"Default\", \"Default\", \"Default\", \"Default\", \"Default\", \"Default\", \"Default\", \"Default\", \"Default\", \"Default\", \"Default\", \"Default\", \"Default\", \"Default\", \"Default\", \"Default\", \"Default\", \"Default\", \"Default\", \"Topic1\", \"Topic1\", \"Topic1\", \"Topic1\", \"Topic1\", \"Topic1\", \"Topic1\", \"Topic1\", \"Topic1\", \"Topic1\", \"Topic1\", \"Topic1\", \"Topic1\", \"Topic1\", \"Topic1\", \"Topic1\", \"Topic1\", \"Topic1\", \"Topic1\", \"Topic1\", \"Topic1\", \"Topic1\", \"Topic1\", \"Topic1\", \"Topic1\", \"Topic1\", \"Topic1\", \"Topic1\", \"Topic1\", \"Topic1\", \"Topic1\", \"Topic1\", \"Topic1\", \"Topic1\", \"Topic1\", \"Topic1\", \"Topic1\", \"Topic2\", \"Topic2\", \"Topic2\", \"Topic2\", \"Topic2\", \"Topic2\", \"Topic2\", \"Topic2\", \"Topic2\", \"Topic2\", \"Topic2\", \"Topic2\", \"Topic2\", \"Topic2\", \"Topic2\", \"Topic2\", \"Topic2\", \"Topic2\", \"Topic2\", \"Topic2\", \"Topic2\", \"Topic2\", \"Topic2\", \"Topic2\", \"Topic2\", \"Topic2\", \"Topic2\", \"Topic2\", \"Topic2\", \"Topic2\", \"Topic2\", \"Topic2\", \"Topic2\", \"Topic2\", \"Topic2\", \"Topic3\", \"Topic3\", \"Topic3\", \"Topic3\", \"Topic3\", \"Topic3\", \"Topic3\", \"Topic3\", \"Topic3\", \"Topic3\", \"Topic3\", \"Topic3\", \"Topic3\", \"Topic3\", \"Topic3\", \"Topic3\", \"Topic3\", \"Topic3\", \"Topic3\", \"Topic3\", \"Topic3\", \"Topic3\", \"Topic3\", \"Topic3\", \"Topic3\", \"Topic3\", \"Topic3\", \"Topic3\", \"Topic3\", \"Topic3\", \"Topic3\", \"Topic3\", \"Topic3\", \"Topic3\", \"Topic3\", \"Topic4\", \"Topic4\", \"Topic4\", \"Topic4\", \"Topic4\", \"Topic4\", \"Topic4\", \"Topic4\", \"Topic4\", \"Topic4\", \"Topic4\", \"Topic4\", \"Topic4\", \"Topic4\", \"Topic4\", \"Topic4\", \"Topic4\", \"Topic4\", \"Topic4\", \"Topic4\", \"Topic4\", \"Topic4\", \"Topic4\", \"Topic4\", \"Topic4\", \"Topic4\", \"Topic4\", \"Topic4\", \"Topic4\", \"Topic4\", \"Topic4\", \"Topic4\", \"Topic4\", \"Topic4\", \"Topic5\", \"Topic5\", \"Topic5\", \"Topic5\", \"Topic5\", \"Topic5\", \"Topic5\", \"Topic5\", \"Topic5\", \"Topic5\", \"Topic5\", \"Topic5\", \"Topic5\", \"Topic5\", \"Topic5\", \"Topic5\", \"Topic5\", \"Topic5\", \"Topic5\", \"Topic5\", \"Topic5\", \"Topic5\", \"Topic5\", \"Topic5\", \"Topic5\", \"Topic5\", \"Topic5\", \"Topic5\", \"Topic5\", \"Topic5\", \"Topic5\", \"Topic6\", \"Topic6\", \"Topic6\", \"Topic6\", \"Topic6\", \"Topic6\", \"Topic6\", \"Topic6\", \"Topic6\", \"Topic6\", \"Topic6\", \"Topic6\", \"Topic6\", \"Topic6\", \"Topic6\", \"Topic6\", \"Topic6\", \"Topic6\", \"Topic6\", \"Topic6\", \"Topic6\", \"Topic6\", \"Topic6\", \"Topic6\", \"Topic6\", \"Topic6\", \"Topic6\", \"Topic6\", \"Topic6\", \"Topic6\", \"Topic6\", \"Topic6\", \"Topic6\", \"Topic6\", \"Topic6\", \"Topic6\", \"Topic6\", \"Topic6\", \"Topic7\", \"Topic7\", \"Topic7\", \"Topic7\", \"Topic7\", \"Topic7\", \"Topic7\", \"Topic7\", \"Topic7\", \"Topic7\", \"Topic7\", \"Topic7\", \"Topic7\", \"Topic7\", \"Topic7\", \"Topic7\", \"Topic7\", \"Topic7\", \"Topic7\", \"Topic7\", \"Topic7\", \"Topic7\", \"Topic7\", \"Topic7\", \"Topic7\", \"Topic7\", \"Topic7\", \"Topic7\", \"Topic7\", \"Topic7\", \"Topic7\", \"Topic7\", \"Topic7\", \"Topic7\", \"Topic7\", \"Topic7\"], \"logprob\": [30.0, 29.0, 28.0, 27.0, 26.0, 25.0, 24.0, 23.0, 22.0, 21.0, 20.0, 19.0, 18.0, 17.0, 16.0, 15.0, 14.0, 13.0, 12.0, 11.0, 10.0, 9.0, 8.0, 7.0, 6.0, 5.0, 4.0, 3.0, 2.0, 1.0, -2.5889999866485596, -2.7011001110076904, -3.565999984741211, -3.920799970626831, -4.109000205993652, -4.221199989318848, -4.239999771118164, -4.244100093841553, -4.53410005569458, -4.656099796295166, -4.704400062561035, -4.730999946594238, -4.774400234222412, -4.792699813842773, -4.788700103759766, -4.880099773406982, -4.948400020599365, -5.012800216674805, -5.028500080108643, -4.929299831390381, -5.17519998550415, -5.170599937438965, -4.909200191497803, -5.206399917602539, -5.302800178527832, -5.315899848937988, -5.3165998458862305, -5.415900230407715, -5.413300037384033, -5.462399959564209, -4.783699989318848, -5.2708001136779785, -4.881199836730957, -5.105800151824951, -5.059999942779541, -5.019199848175049, -5.105299949645996, -3.00570011138916, -3.1333999633789062, -3.7039999961853027, -3.866499900817871, -4.000500202178955, -4.25439977645874, -4.334799766540527, -4.35129976272583, -4.356400012969971, -4.492800235748291, -4.5625, -4.585000038146973, -4.750199794769287, -4.7769999504089355, -4.799099922180176, -4.89300012588501, -4.917799949645996, -4.900700092315674, -4.947700023651123, -5.027900218963623, -5.0605998039245605, -5.138700008392334, -5.131499767303467, -4.731599807739258, -4.561800003051758, -5.307000160217285, -5.360799789428711, -5.372600078582764, -5.422900199890137, -5.443999767303467, -4.062699794769287, -4.696800231933594, -5.10260009765625, -4.491099834442139, -4.869800090789795, -3.204699993133545, -3.989799976348877, -4.170000076293945, -4.3734002113342285, -4.4004998207092285, -4.439300060272217, -4.454100131988525, -4.594900131225586, -4.5329999923706055, -4.740300178527832, -4.757299900054932, -4.770199775695801, -4.777900218963623, -4.408699989318848, -4.878300189971924, -4.888500213623047, -4.921199798583984, -4.9334001541137695, -4.959000110626221, -5.043000221252441, -5.080900192260742, -5.135499954223633, -5.158999919891357, -5.15749979019165, -5.175000190734863, -5.2881999015808105, -5.296299934387207, -5.299900054931641, -5.342700004577637, -5.432400226593018, -4.616700172424316, -5.242700099945068, -4.925000190734863, -5.043399810791016, -5.0640997886657715, -2.453399896621704, -3.245800018310547, -3.8124001026153564, -3.8187999725341797, -3.827899932861328, -3.898699998855591, -4.040900230407715, -4.0929999351501465, -4.084199905395508, -4.139599800109863, -4.178699970245361, -4.18209981918335, -4.125699996948242, -4.325500011444092, -4.338600158691406, -4.404399871826172, -4.560299873352051, -4.554900169372559, -4.729800224304199, -4.814300060272217, -4.820300102233887, -4.8765997886657715, -4.993500232696533, -4.985499858856201, -5.016200065612793, -5.1774001121521, -5.189499855041504, -5.223499774932861, -5.220799922943115, -5.48769998550415, -4.64109992980957, -5.004199981689453, -5.078800201416016, -5.124899864196777, -2.8863000869750977, -3.2353999614715576, -3.2867000102996826, -3.5504000186920166, -3.5220000743865967, -3.842400074005127, -3.981600046157837, -4.0096001625061035, -4.03380012512207, -4.098400115966797, -4.30679988861084, -4.326399803161621, -4.406000137329102, -4.521699905395508, -4.529900074005127, -4.590099811553955, -4.624199867248535, -4.730299949645996, -4.777400016784668, -4.778200149536133, -4.804200172424316, -4.827000141143799, -4.929900169372559, -4.919300079345703, -5.213200092315674, -5.237800121307373, -4.820499897003174, -5.293700218200684, -5.295499801635742, -5.333000183105469, -5.034999847412109, -3.1314001083374023, -3.6040000915527344, -3.92330002784729, -3.9342000484466553, -3.96370005607605, -4.0991997718811035, -4.179800033569336, -4.224100112915039, -4.2829999923706055, -4.307600021362305, -4.4475998878479, -4.396299839019775, -4.615900039672852, -4.694300174713135, -4.743800163269043, -4.752999782562256, -4.90369987487793, -4.858500003814697, -5.145999908447266, -5.21619987487793, -4.919300079345703, -5.265999794006348, -5.289999961853027, -5.372600078582764, -5.40369987487793, -5.411900043487549, -5.438499927520752, -5.4934000968933105, -5.587399959564209, -5.634399890899658, -5.36959981918335, -4.99429988861084, -4.313499927520752, -5.073800086975098, -5.178899765014648, -5.244100093841553, -5.2617998123168945, -5.275000095367432, -3.8580000400543213, -3.918299913406372, -3.990999937057495, -4.019999980926514, -4.092800140380859, -4.242800235748291, -4.256899833679199, -4.316500186920166, -4.3292999267578125, -4.353899955749512, -4.4567999839782715, -4.639100074768066, -4.691999912261963, -4.742199897766113, -4.794300079345703, -4.894999980926514, -4.015100002288818, -4.30079984664917, -5.032100200653076, -5.12939977645874, -5.084799766540527, -5.158599853515625, -5.2153000831604, -5.249899864196777, -5.320799827575684, -5.365699768066406, -5.365900039672852, -5.354400157928467, -5.485099792480469, -5.665999889373779, -5.182300090789795, -5.054200172424316, -5.0980000495910645, -5.130000114440918, -5.205100059509277, -5.216700077056885], \"loglift\": [30.0, 29.0, 28.0, 27.0, 26.0, 25.0, 24.0, 23.0, 22.0, 21.0, 20.0, 19.0, 18.0, 17.0, 16.0, 15.0, 14.0, 13.0, 12.0, 11.0, 10.0, 9.0, 8.0, 7.0, 6.0, 5.0, 4.0, 3.0, 2.0, 1.0, 1.3144, 1.3142, 1.311, 1.3086, 1.307, 1.3059, 1.3057, 1.3056, 1.302, 1.3, 1.2991, 1.2988, 1.298, 1.2978, 1.2973, 1.2961, 1.2947, 1.2929, 1.2926, 1.2919, 1.2892, 1.2878, 1.2873, 1.287, 1.2856, 1.2852, 1.2851, 1.2819, 1.2818, 1.2803, 1.2751, 1.2735, 1.2002, 1.2319, 0.7427, -0.0802, 0.2777, 1.8459, 1.8451, 1.8404, 1.8385, 1.8347, 1.8325, 1.831, 1.8307, 1.8305, 1.8275, 1.8259, 1.8252, 1.8206, 1.8198, 1.8192, 1.8159, 1.8151, 1.8149, 1.8136, 1.8111, 1.8098, 1.8065, 1.8052, 1.805, 1.8049, 1.7985, 1.7951, 1.7951, 1.7922, 1.7901, 1.3523, 1.3353, 1.5579, 0.4479, 0.6827, 2.0339, 2.0244, 2.0212, 2.0167, 2.016, 2.015, 2.0146, 2.0106, 2.0076, 2.0058, 2.0051, 2.0045, 2.0045, 2.0037, 2.0006, 2.0, 1.9987, 1.9983, 1.9972, 1.9934, 1.9912, 1.988, 1.9876, 1.9875, 1.9868, 1.9804, 1.9798, 1.9796, 1.976, 1.9701, 1.922, 1.9479, 0.6858, 0.2008, 0.3509, 2.0718, 2.067, 2.0603, 2.0602, 2.0601, 2.0588, 2.0562, 2.0554, 2.0551, 2.054, 2.0536, 2.0529, 2.0517, 2.05, 2.0497, 2.0465, 2.0434, 2.0395, 2.0373, 2.0342, 2.0337, 2.0316, 2.0263, 2.0236, 2.0228, 2.0165, 2.0159, 2.0139, 2.0071, 1.9957, 1.9853, 1.7875, 1.5915, 0.1193, 2.1775, 2.1748, 2.1743, 2.1712, 2.1709, 2.1668, 2.1638, 2.1635, 2.1625, 2.1591, 2.1565, 2.1554, 2.153, 2.1499, 2.1497, 2.1473, 2.1463, 2.1416, 2.1401, 2.1398, 2.1385, 2.1379, 2.133, 2.1285, 2.1162, 2.115, 2.1126, 2.1112, 2.1109, 2.103, -0.096, 2.2102, 2.2049, 2.1995, 2.1994, 2.1979, 2.1959, 2.194, 2.1919, 2.1911, 2.1906, 2.1864, 2.1858, 2.1804, 2.1771, 2.1753, 2.1749, 2.1677, 2.1572, 2.1531, 2.1493, 2.1483, 2.1463, 2.1446, 2.138, 2.1359, 2.1353, 2.1331, 2.1281, 2.1189, 2.1154, 2.043, 1.6322, 0.6255, 0.1704, 0.5177, 0.7035, 0.1532, 0.2775, 2.2986, 2.2963, 2.2957, 2.2935, 2.2915, 2.2891, 2.2889, 2.2871, 2.2863, 2.2855, 2.281, 2.2751, 2.2725, 2.2706, 2.2679, 2.2628, 2.2619, 2.2591, 2.2543, 2.2486, 2.2475, 2.2433, 2.2425, 2.237, 2.2338, 2.2308, 2.2306, 2.2246, 2.2201, 2.2009, 1.9128, 0.19, 0.285, 0.2849, 0.4539, 0.1929]}, \"token.table\": {\"Topic\": [7, 2, 2, 6, 5, 1, 5, 6, 6, 1, 1, 2, 3, 4, 5, 6, 7, 1, 7, 5, 1, 2, 3, 4, 6, 7, 1, 5, 5, 4, 2, 1, 2, 2, 4, 3, 1, 2, 3, 4, 5, 6, 7, 1, 3, 1, 2, 1, 2, 3, 4, 5, 6, 7, 1, 2, 3, 4, 5, 6, 7, 4, 2, 3, 1, 6, 5, 1, 3, 6, 5, 5, 4, 7, 4, 6, 1, 2, 3, 4, 5, 6, 7, 6, 3, 4, 2, 1, 2, 3, 7, 6, 4, 3, 5, 3, 1, 2, 3, 4, 5, 6, 7, 2, 5, 5, 1, 7, 1, 7, 3, 1, 4, 4, 5, 2, 2, 4, 2, 4, 2, 2, 7, 1, 2, 3, 4, 5, 6, 7, 7, 6, 7, 3, 7, 3, 1, 2, 3, 4, 5, 6, 7, 3, 2, 4, 5, 3, 6, 4, 1, 1, 3, 1, 1, 2, 3, 4, 5, 6, 7, 4, 3, 2, 6, 1, 2, 6, 1, 7, 4, 5, 6, 4, 7, 7, 1, 1, 4, 2, 1, 2, 3, 4, 5, 6, 7, 1, 2, 3, 4, 5, 6, 7, 4, 1, 2, 3, 4, 5, 6, 7, 6, 3, 6, 6, 1, 6, 1, 2, 3, 4, 5, 6, 7, 5, 3, 3, 3, 1, 1, 2, 3, 4, 5, 6, 7, 1, 2, 2, 3, 7, 3, 7, 3, 2, 2, 5, 1, 1, 2, 3, 4, 5, 6, 7, 7, 6, 1, 1, 2, 3, 4, 5, 6, 7, 6, 1, 2, 1, 2, 3, 4, 5, 6, 7, 7, 7, 4, 7, 1, 1, 3, 3, 6, 2, 3, 5, 2, 5, 7, 2, 4, 1, 2, 3, 4, 5, 6, 7, 4, 5, 7, 5, 1, 6, 3, 6, 2, 6, 1, 2, 3, 4, 5, 6, 7, 6, 3, 3, 4, 4, 1, 2, 3, 4, 5, 6, 7, 2, 7, 6, 3, 1, 1, 2, 3, 4, 5, 6, 7, 1, 2, 3, 4, 5, 6, 7, 6, 5, 3, 5, 4, 5, 4, 5, 6, 7, 4, 7, 3, 7, 6, 7, 1, 1, 2, 3, 4, 5, 6, 7, 5, 5, 4, 1, 2, 3, 6, 7, 2, 4, 1, 2, 3, 4, 5, 6, 7, 5, 4, 4, 5, 7, 5, 1, 3, 5, 6, 6, 7, 1], \"Freq\": [0.9326816461883869, 0.9332471113132451, 0.9843384962340811, 0.9550226988458852, 0.9496227467221774, 0.9741835250949477, 0.9207198742085115, 0.9686654685222339, 0.9084235845772138, 0.9835334618412329, 0.07426843810026013, 0.6055734183559671, 0.10283322198497555, 0.04570365421554469, 0.06855548132331704, 0.011425913553886172, 0.09140730843108938, 0.9940232003468065, 0.9751177354719086, 0.9527807313361453, 0.2859012905556285, 0.5929804544857481, 0.07412255681071851, 0.010588936687245502, 0.021177873374491004, 0.9491838466205538, 0.983374908711442, 0.9831484861552592, 0.986973551099495, 0.9782449883262391, 0.9584308669001836, 0.9824747072880128, 0.9549343438571106, 0.9746585753140121, 0.9949197458429272, 0.9480780646819699, 0.04526688031597371, 0.04526688031597371, 0.04526688031597371, 0.7469035252135662, 0.022633440157986854, 0.04526688031597371, 0.04526688031597371, 0.987013216053689, 0.9475406362635354, 0.01753623544233258, 0.9469567138859594, 0.09593592311678824, 0.07674873849343058, 0.07674873849343058, 0.07674873849343058, 0.05756155387007294, 0.5564283540773718, 0.07674873849343058, 0.9198991175529297, 0.014373423711764527, 0.014373423711764527, 0.014373423711764527, 0.014373423711764527, 0.014373423711764527, 0.014373423711764527, 0.9752169687556271, 0.9840714742972864, 0.946217189454329, 0.9917124221964969, 0.9926761074057829, 0.9892383196276443, 0.9904634795184014, 0.9552435769288985, 0.9511735274136263, 0.9356514288984642, 0.971149882883976, 0.9564375131777141, 0.9356200140607293, 0.9795619150804099, 0.9580438223762112, 0.019183738497870095, 0.019183738497870095, 0.019183738497870095, 0.9208194478977645, 0.019183738497870095, 0.019183738497870095, 0.019183738497870095, 0.9379928552891292, 0.9540141183243832, 0.9831739496188002, 0.9648394093377595, 0.014797555998705983, 0.9618411399158889, 0.014797555998705983, 0.014797555998705983, 0.9780076767256825, 0.972792433329921, 0.963240507551566, 0.9299632296580208, 0.9519454142511867, 0.059548958699356454, 0.7542868101918484, 0.03969930579957097, 0.03969930579957097, 0.03969930579957097, 0.03969930579957097, 0.03969930579957097, 0.9705117814451895, 0.9858496660737592, 0.9053040303384413, 0.997917137761646, 0.9071771817586252, 0.9684695123624314, 0.9110122683191146, 0.9360123264069526, 0.9734852093790038, 0.9382110732108012, 0.9830837493510884, 0.9881094364006091, 0.9931574863077693, 0.9511073416244538, 0.9902931405082797, 0.9559077369556311, 0.9663865412758383, 0.984917465744052, 0.9803695964673155, 0.983445801984199, 0.16770666012055052, 0.1531234722839809, 0.16770666012055052, 0.12395709661084169, 0.09479072093770247, 0.1385402844474113, 0.1531234722839809, 0.9464912004973183, 0.9793113981312465, 0.9165987830417517, 0.9106280747683259, 0.9278968582508242, 0.9671193842438871, 0.30808077213951385, 0.30808077213951385, 0.15076293104699612, 0.039329460273129425, 0.019664730136564713, 0.14420802100147456, 0.032774550227607856, 0.9690767620324982, 0.9602758348693163, 0.9584092816989315, 0.9564324907921341, 0.9171489727493547, 0.924469966685835, 0.9564359696713866, 0.9697746646821621, 0.9604177360592837, 0.9502977789103454, 0.9811648001245531, 0.1885195098846961, 0.16566866020170262, 0.1828067974639477, 0.10282882357347059, 0.10282882357347059, 0.12567967325646406, 0.13139238567721243, 0.9676989720568634, 0.9568578508572498, 0.9447123254557387, 0.8849480518967578, 0.9784670005303885, 0.9951684168392685, 0.9153455036438226, 0.989591628641291, 0.9718447637045863, 0.9830956144644093, 0.9778723062420436, 0.9596057695448394, 0.9753125990477204, 0.973452919845998, 0.978922903214244, 0.9813911624309889, 0.9807089349086615, 0.9703105796849031, 0.9500026507136721, 0.20845668804873763, 0.1667653504389901, 0.2570965819267764, 0.07643411895120379, 0.07643411895120379, 0.13202256909753382, 0.08338267521949505, 0.24432289573798305, 0.14773012300436184, 0.14204819519650178, 0.12500241177292154, 0.1136385561572014, 0.10795662834934135, 0.11932048396506148, 0.958246671836484, 0.35410428085740364, 0.19365077859389263, 0.10512470837954171, 0.044263035107175455, 0.06639455266076319, 0.10512470837954171, 0.13278910532152638, 0.9762303622570863, 0.9798478488488004, 0.9720751346354671, 0.9344180321196885, 0.9976773842613496, 0.9844789013176074, 0.8899250417664109, 0.022248126044160273, 0.022248126044160273, 0.022248126044160273, 0.011124063022080136, 0.022248126044160273, 0.022248126044160273, 0.9794936274770888, 0.963067781980292, 0.9604770977036036, 0.9602627771450283, 0.9726667720669872, 0.9569854067158677, 0.01087483416722577, 0.01087483416722577, 0.01087483416722577, 0.01087483416722577, 0.01087483416722577, 0.01087483416722577, 0.9544045046080303, 0.9765861945036748, 0.9826977838473272, 0.9694083752372316, 0.9774729992856771, 0.9667830277271572, 0.983446127000232, 0.9200682629169302, 0.9603394921957059, 0.9617316444869379, 0.9520304156240764, 0.9893496717433351, 0.017573395509916264, 0.017573395509916264, 0.8786697754958133, 0.017573395509916264, 0.017573395509916264, 0.017573395509916264, 0.017573395509916264, 0.922193343043532, 0.9855843617044595, 0.9789105783525968, 0.24842451504917534, 0.24487559340561568, 0.0745273545147526, 0.06033166794051401, 0.10291872766322978, 0.20228853368289992, 0.06742951122763331, 0.947041764371245, 0.9878880449915197, 0.9660319226937546, 0.0801762672907844, 0.0601322004680883, 0.0801762672907844, 0.6213660715035791, 0.0400881336453922, 0.0601322004680883, 0.0601322004680883, 0.9599202995232875, 0.9786148352516579, 0.981227803189197, 0.8622478481002174, 0.9730184943121978, 0.9732535037256597, 0.9808022284504752, 0.9769656292939952, 0.9826373953458795, 0.9882683063623992, 0.9641486830248808, 0.9684801484758474, 0.9685070625124892, 0.964682445193252, 0.9252993408771059, 0.9419439366145947, 0.9661455525792434, 0.013528115260625828, 0.013528115260625828, 0.013528115260625828, 0.013528115260625828, 0.013528115260625828, 0.013528115260625828, 0.946968068243808, 0.9475105064810261, 0.9501517029769968, 0.941614701491457, 0.9193499899232344, 0.9658027811402556, 0.9341284945285807, 0.9684661967019906, 0.9240156797177157, 0.9491742229155474, 0.9289022655709515, 0.18489010062586153, 0.19462115855353845, 0.16542798477050769, 0.058386347566061536, 0.0875795213490923, 0.22381433233656922, 0.0875795213490923, 0.9038283422769565, 0.9912706146695159, 0.9777327695628172, 0.9716878385655106, 0.9634985452739602, 0.5640445645700095, 0.1346972094495545, 0.1346972094495545, 0.04209287795298578, 0.05893002913418009, 0.02525572677179147, 0.04209287795298578, 0.973678629686358, 0.9027984459887428, 0.9727093628573699, 0.9586498435822286, 0.9722936401713345, 0.39368161928815487, 0.1514160074185211, 0.09842040482203872, 0.022712401112778165, 0.060566402967408436, 0.18169920890222532, 0.09084960445111266, 0.23596284334003154, 0.1252047740171596, 0.1589137516371641, 0.13965147871144723, 0.09149579639715509, 0.1300203422485888, 0.12038920578573038, 0.9788156589524997, 0.9634888086426774, 0.9730709165410623, 0.9386104411272381, 0.9658420501339549, 0.993188491346255, 0.9810096245285337, 0.9498966431531289, 0.926154437127047, 0.9464744331060578, 0.9827931765632485, 0.965027172749725, 0.9215358280229415, 0.9679438132588603, 0.9665162574059526, 0.9110135331629249, 0.9744711865531055, 0.061312572416534074, 0.061312572416534074, 0.061312572416534074, 0.030656286208267037, 0.061312572416534074, 0.061312572416534074, 0.6744382965818748, 0.9684438873454616, 0.947558259599954, 0.9542693074146346, 0.017950371268224997, 0.017950371268224997, 0.017950371268224997, 0.017950371268224997, 0.9334193059477, 0.9677712585711132, 0.9841410339936445, 0.04210966352728529, 0.04210966352728529, 0.04210966352728529, 0.04210966352728529, 0.04210966352728529, 0.8421932705457058, 0.04210966352728529, 0.9842981341986051, 0.9039785976710135, 0.9452822451138165, 0.941908974950696, 0.8951646792412461, 0.973301837658891, 0.9766487653539665, 0.9344835792827623, 0.9753913487779774, 0.9559213755950895, 0.9397770302793743, 0.9681266960284424, 0.975467279989152], \"Term\": [\"absolutely\", \"acting\", \"action\", \"actors\", \"american\", \"attempt\", \"attention\", \"audience\", \"audiences\", \"away\", \"awful\", \"awful\", \"awful\", \"awful\", \"awful\", \"awful\", \"awful\", \"bad\", \"better\", \"big\", \"bland\", \"bland\", \"bland\", \"bland\", \"bland\", \"book\", \"case\", \"character\", \"characters\", \"charm\", \"cinema\", \"cinematic\", \"clever\", \"come\", \"comedy\", \"comes\", \"company\", \"company\", \"company\", \"company\", \"company\", \"company\", \"company\", \"compelling\", \"debut\", \"decent\", \"decent\", \"definitely\", \"definitely\", \"definitely\", \"definitely\", \"definitely\", \"definitely\", \"definitely\", \"depth\", \"depth\", \"depth\", \"depth\", \"depth\", \"depth\", \"depth\", \"despite\", \"dialogue\", \"difficult\", \"director\", \"documentary\", \"drama\", \"dull\", \"effects\", \"effort\", \"emotional\", \"end\", \"endearing\", \"ending\", \"engaging\", \"enjoy\", \"enjoyable\", \"enjoyable\", \"enjoyable\", \"enjoyable\", \"enjoyable\", \"enjoyable\", \"enjoyable\", \"entertaining\", \"exercise\", \"experience\", \"fact\", \"fairly\", \"fairly\", \"fairly\", \"fairly\", \"family\", \"fans\", \"far\", \"fascinating\", \"feature\", \"features\", \"features\", \"features\", \"features\", \"features\", \"features\", \"features\", \"feel\", \"feels\", \"female\", \"film\", \"filmmaker\", \"filmmakers\", \"films\", \"find\", \"fire\", \"flick\", \"formula\", \"fresh\", \"fun\", \"funnier\", \"funny\", \"gets\", \"goes\", \"good\", \"great\", \"hard\", \"harmless\", \"harmless\", \"harmless\", \"harmless\", \"harmless\", \"harmless\", \"harmless\", \"head\", \"heart\", \"hell\", \"hilarious\", \"history\", \"hollywood\", \"horrible\", \"horrible\", \"horrible\", \"horrible\", \"horrible\", \"horrible\", \"horrible\", \"humor\", \"idea\", \"ideas\", \"ii\", \"imagine\", \"impressive\", \"intelligent\", \"interesting\", \"kind\", \"know\", \"lacks\", \"lame\", \"lame\", \"lame\", \"lame\", \"lame\", \"lame\", \"lame\", \"laughs\", \"lead\", \"leave\", \"leaves\", \"life\", \"like\", \"likely\", \"little\", \"lives\", \"long\", \"look\", \"looking\", \"lot\", \"love\", \"major\", \"makes\", \"making\", \"material\", \"matter\", \"meandering\", \"meandering\", \"meandering\", \"meandering\", \"meandering\", \"meandering\", \"meandering\", \"melodramatic\", \"melodramatic\", \"melodramatic\", \"melodramatic\", \"melodramatic\", \"melodramatic\", \"melodramatic\", \"men\", \"mess\", \"mess\", \"mess\", \"mess\", \"mess\", \"mess\", \"mess\", \"mind\", \"minutes\", \"moments\", \"monster\", \"movie\", \"movies\", \"moving\", \"moving\", \"moving\", \"moving\", \"moving\", \"moving\", \"moving\", \"mystery\", \"nearly\", \"need\", \"needs\", \"new\", \"nice\", \"nice\", \"nice\", \"nice\", \"nice\", \"nice\", \"nice\", \"odd\", \"old\", \"opportunity\", \"people\", \"performance\", \"performances\", \"picture\", \"piece\", \"place\", \"play\", \"plays\", \"plot\", \"political\", \"political\", \"political\", \"political\", \"political\", \"political\", \"political\", \"power\", \"predictable\", \"premise\", \"pretentious\", \"pretentious\", \"pretentious\", \"pretentious\", \"pretentious\", \"pretentious\", \"pretentious\", \"probably\", \"real\", \"remake\", \"ride\", \"ride\", \"ride\", \"ride\", \"ride\", \"ride\", \"ride\", \"right\", \"romance\", \"romantic\", \"sad\", \"satisfying\", \"scenes\", \"screen\", \"screenplay\", \"script\", \"seen\", \"sense\", \"sequel\", \"series\", \"set\", \"short\", \"shot\", \"silly\", \"simple\", \"simple\", \"simple\", \"simple\", \"simple\", \"simple\", \"simple\", \"simply\", \"sit\", \"situation\", \"situations\", \"slow\", \"small\", \"smart\", \"social\", \"sort\", \"spy\", \"stale\", \"stale\", \"stale\", \"stale\", \"stale\", \"stale\", \"stale\", \"star\", \"story\", \"storytelling\", \"stuff\", \"sure\", \"surprises\", \"surprises\", \"surprises\", \"surprises\", \"surprises\", \"surprises\", \"surprises\", \"surprisingly\", \"suspense\", \"sweet\", \"taken\", \"tale\", \"tedious\", \"tedious\", \"tedious\", \"tedious\", \"tedious\", \"tedious\", \"tedious\", \"terrible\", \"terrible\", \"terrible\", \"terrible\", \"terrible\", \"terrible\", \"terrible\", \"thing\", \"things\", \"think\", \"thinking\", \"thoroughly\", \"thriller\", \"time\", \"title\", \"tone\", \"tries\", \"true\", \"truly\", \"turn\", \"turns\", \"ultimately\", \"understand\", \"uneven\", \"unsettling\", \"unsettling\", \"unsettling\", \"unsettling\", \"unsettling\", \"unsettling\", \"unsettling\", \"visually\", \"war\", \"watch\", \"watchable\", \"watchable\", \"watchable\", \"watchable\", \"watchable\", \"watching\", \"way\", \"ways\", \"ways\", \"ways\", \"ways\", \"ways\", \"ways\", \"ways\", \"weird\", \"wild\", \"wise\", \"women\", \"word\", \"words\", \"work\", \"works\", \"world\", \"worth\", \"written\", \"year\", \"young\"]}, \"R\": 30, \"lambda.step\": 0.01, \"plot.opts\": {\"xlab\": \"PC1\", \"ylab\": \"PC2\"}, \"topic.order\": [2, 5, 3, 1, 7, 4, 6]};\n",
       "\n",
       "function LDAvis_load_lib(url, callback){\n",
       "  var s = document.createElement('script');\n",
       "  s.src = url;\n",
       "  s.async = true;\n",
       "  s.onreadystatechange = s.onload = callback;\n",
       "  s.onerror = function(){console.warn(\"failed to load library \" + url);};\n",
       "  document.getElementsByTagName(\"head\")[0].appendChild(s);\n",
       "}\n",
       "\n",
       "if(typeof(LDAvis) !== \"undefined\"){\n",
       "   // already loaded: just create the visualization\n",
       "   !function(LDAvis){\n",
       "       new LDAvis(\"#\" + \"ldavis_el153761403363367451849684096534\", ldavis_el153761403363367451849684096534_data);\n",
       "   }(LDAvis);\n",
       "}else if(typeof define === \"function\" && define.amd){\n",
       "   // require.js is available: use it to load d3/LDAvis\n",
       "   require.config({paths: {d3: \"https://cdnjs.cloudflare.com/ajax/libs/d3/3.5.5/d3.min\"}});\n",
       "   require([\"d3\"], function(d3){\n",
       "      window.d3 = d3;\n",
       "      LDAvis_load_lib(\"https://cdn.rawgit.com/bmabey/pyLDAvis/files/ldavis.v1.0.0.js\", function(){\n",
       "        new LDAvis(\"#\" + \"ldavis_el153761403363367451849684096534\", ldavis_el153761403363367451849684096534_data);\n",
       "      });\n",
       "    });\n",
       "}else{\n",
       "    // require.js not available: dynamically load d3 & LDAvis\n",
       "    LDAvis_load_lib(\"https://cdnjs.cloudflare.com/ajax/libs/d3/3.5.5/d3.min.js\", function(){\n",
       "         LDAvis_load_lib(\"https://cdn.rawgit.com/bmabey/pyLDAvis/files/ldavis.v1.0.0.js\", function(){\n",
       "                 new LDAvis(\"#\" + \"ldavis_el153761403363367451849684096534\", ldavis_el153761403363367451849684096534_data);\n",
       "            })\n",
       "         });\n",
       "}\n",
       "</script>"
      ],
      "text/plain": [
       "PreparedData(topic_coordinates=               x          y  topics  cluster       Freq\n",
       "topic                                                  \n",
       "1     -29.594002  60.112713       1        1  26.806865\n",
       "4     -45.996586  11.891685       2        1  15.703528\n",
       "2      20.368856  70.019325       3        1  12.980678\n",
       "0      53.928768  31.704309       4        1  12.545726\n",
       "6     -12.437127 -26.423267       5        1  11.254520\n",
       "3       3.965971  21.797720       6        1  10.869610\n",
       "5      37.524284 -16.517805       7        1   9.839073, topic_info=              Term        Freq       Total Category  logprob  loglift\n",
       "102           film  793.000000  793.000000  Default  30.0000  30.0000\n",
       "94           movie  709.000000  709.000000  Default  29.0000  29.0000\n",
       "170         comedy  426.000000  426.000000  Default  28.0000  28.0000\n",
       "51            like  307.000000  307.000000  Default  27.0000  27.0000\n",
       "227       thriller  248.000000  248.000000  Default  26.0000  26.0000\n",
       "...            ...         ...         ...      ...      ...      ...\n",
       "1078      terrible   24.705920  207.659813   Topic7  -5.0542   0.1900\n",
       "2170          mess   23.648046  180.737719   Topic7  -5.0980   0.2850\n",
       "1695          lame   22.901337  175.048195   Topic7  -5.1300   0.2849\n",
       "2542      harmless   21.244710  137.144225   Topic7  -5.2051   0.4539\n",
       "1656  melodramatic   21.000290  175.996604   Topic7  -5.2167   0.1929\n",
       "\n",
       "[276 rows x 6 columns], token_table=      Topic      Freq        Term\n",
       "term                             \n",
       "1164      7  0.932682  absolutely\n",
       "43        2  0.933247      acting\n",
       "44        2  0.984338      action\n",
       "83        6  0.955023      actors\n",
       "486       5  0.949623    american\n",
       "...     ...       ...         ...\n",
       "211       5  0.975391       world\n",
       "88        6  0.955921       worth\n",
       "78        6  0.939777     written\n",
       "185       7  0.968127        year\n",
       "112       1  0.975467       young\n",
       "\n",
       "[392 rows x 3 columns], R=30, lambda_step=0.01, plot_opts={'xlab': 'PC1', 'ylab': 'PC2'}, topic_order=[2, 5, 3, 1, 7, 4, 6])"
      ]
     },
     "execution_count": 28,
     "metadata": {},
     "output_type": "execute_result"
    }
   ],
   "source": [
    "pyLDAvis.gensim.prepare(lda, list(MyCorpus()), dictionary, mds='tsne')"
   ]
  },
  {
   "cell_type": "markdown",
   "metadata": {},
   "source": [
    "That&rsquo;s all, folks!"
   ]
  }
 ],
 "metadata": {
  "kernelspec": {
   "display_name": "Python 3",
   "language": "python",
   "name": "python3"
  },
  "language_info": {
   "codemirror_mode": {
    "name": "ipython",
    "version": 3
   },
   "file_extension": ".py",
   "mimetype": "text/x-python",
   "name": "python",
   "nbconvert_exporter": "python",
   "pygments_lexer": "ipython3",
   "version": "3.8.3"
  }
 },
 "nbformat": 4,
 "nbformat_minor": 2
}
