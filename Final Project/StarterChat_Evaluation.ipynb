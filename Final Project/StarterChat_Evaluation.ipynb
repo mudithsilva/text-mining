{
 "cells": [
  {
   "cell_type": "code",
   "execution_count": 1,
   "metadata": {},
   "outputs": [],
   "source": [
    "from sklearn.naive_bayes import MultinomialNB\n",
    "from sklearn.linear_model import LogisticRegression\n",
    "from sklearn.linear_model import SGDClassifier\n",
    "\n",
    "from sklearn.pipeline import Pipeline\n",
    "import spacy\n",
    "import numpy as np\n",
    "from sklearn.feature_extraction.text import CountVectorizer, TfidfVectorizer, TfidfTransformer\n",
    "from sklearn.metrics import classification_report, confusion_matrix\n",
    "\n",
    "import pandas as pd\n",
    "from sklearn.model_selection import train_test_split\n",
    "from proj_helper import Helper, TimeHelper\n",
    "import joblib"
   ]
  },
  {
   "attachments": {
    "image-5.png": {
     "image/png": "[encoded data removed]"
    }
   },
   "cell_type": "markdown",
   "metadata": {},
   "source": [
    "1 - General Greeting\tUsed Hi for all injection words (Hey, Hi,..) <br>\n",
    "2 - Greeting + Checkback\tReplaced usergreetings -> Good Morning <br>\n",
    "3 - Ask Available Services\tEg:- All available services <br>\n",
    "4 - Ask General Services\tEg :- Hair cut, Colouring … <br> \n",
    "5 - Make Reservation\t<br>\n",
    "6 - Change Reservation\t<br>\n",
    "7 - Remove/Cancel Reservation\t<br>\n",
    "8 - 8 - Close Chat / Close greeting <br>\n",
    "\n",
    "![image-5.png](attachment:image-5.png)\n"
   ]
  },
  {
   "cell_type": "code",
   "execution_count": 2,
   "metadata": {},
   "outputs": [],
   "source": [
    "chat_data = pd.read_excel('UserChatData.xlsx', header=0) "
   ]
  },
  {
   "cell_type": "code",
   "execution_count": 3,
   "metadata": {},
   "outputs": [
    {
     "data": {
      "text/html": [
       "<div>\n",
       "<style scoped>\n",
       "    .dataframe tbody tr th:only-of-type {\n",
       "        vertical-align: middle;\n",
       "    }\n",
       "\n",
       "    .dataframe tbody tr th {\n",
       "        vertical-align: top;\n",
       "    }\n",
       "\n",
       "    .dataframe thead th {\n",
       "        text-align: right;\n",
       "    }\n",
       "</style>\n",
       "<table border=\"1\" class=\"dataframe\">\n",
       "  <thead>\n",
       "    <tr style=\"text-align: right;\">\n",
       "      <th></th>\n",
       "      <th>Chat</th>\n",
       "      <th>Group</th>\n",
       "    </tr>\n",
       "  </thead>\n",
       "  <tbody>\n",
       "    <tr>\n",
       "      <th>0</th>\n",
       "      <td>interjection</td>\n",
       "      <td>1</td>\n",
       "    </tr>\n",
       "    <tr>\n",
       "      <th>1</th>\n",
       "      <td>interjection I am username</td>\n",
       "      <td>1</td>\n",
       "    </tr>\n",
       "    <tr>\n",
       "      <th>2</th>\n",
       "      <td>interjection I'm username</td>\n",
       "      <td>1</td>\n",
       "    </tr>\n",
       "    <tr>\n",
       "      <th>3</th>\n",
       "      <td>interjection Glad to meet you!</td>\n",
       "      <td>1</td>\n",
       "    </tr>\n",
       "    <tr>\n",
       "      <th>4</th>\n",
       "      <td>interjection Nice to meet you!</td>\n",
       "      <td>1</td>\n",
       "    </tr>\n",
       "  </tbody>\n",
       "</table>\n",
       "</div>"
      ],
      "text/plain": [
       "                             Chat  Group\n",
       "0                    interjection      1\n",
       "1      interjection I am username      1\n",
       "2       interjection I'm username      1\n",
       "3  interjection Glad to meet you!      1\n",
       "4  interjection Nice to meet you!      1"
      ]
     },
     "execution_count": 3,
     "metadata": {},
     "output_type": "execute_result"
    }
   ],
   "source": [
    "chat_data.head()"
   ]
  },
  {
   "cell_type": "code",
   "execution_count": 4,
   "metadata": {},
   "outputs": [
    {
     "data": {
      "text/plain": [
       "4    79\n",
       "3    75\n",
       "5    67\n",
       "6    66\n",
       "1    64\n",
       "7    60\n",
       "2    60\n",
       "8    43\n",
       "Name: Group, dtype: int64"
      ]
     },
     "execution_count": 4,
     "metadata": {},
     "output_type": "execute_result"
    }
   ],
   "source": [
    "chat_data['Group'].value_counts()"
   ]
  },
  {
   "cell_type": "code",
   "execution_count": 5,
   "metadata": {},
   "outputs": [
    {
     "name": "stderr",
     "output_type": "stream",
     "text": [
      "<ipython-input-5-659158dd99a6>:5: SettingWithCopyWarning: \n",
      "A value is trying to be set on a copy of a slice from a DataFrame\n",
      "\n",
      "See the caveats in the documentation: https://pandas.pydata.org/pandas-docs/stable/user_guide/indexing.html#returning-a-view-versus-a-copy\n",
      "  chat_data['Chat'][row] = item.preprocess_givendata(chat_data['Chat'][row])\n"
     ]
    },
    {
     "data": {
      "text/plain": [
       "0                       interjection\n",
       "1         interjection I am username\n",
       "2         interjection I 'm username\n",
       "3      interjection Glad to meet you\n",
       "4      interjection Nice to meet you\n",
       "                   ...              \n",
       "509              thank you very much\n",
       "510           very well interjection\n",
       "511              Have a nice day Bye\n",
       "512    Thank you for your help . Bye\n",
       "513              Thanks for the info\n",
       "Name: Chat, Length: 514, dtype: object"
      ]
     },
     "execution_count": 5,
     "metadata": {},
     "output_type": "execute_result"
    }
   ],
   "source": [
    "item = Helper()\n",
    "# item.preprocess(\"Heyy I'm Mudith\")\n",
    "\n",
    "for row in range(len(chat_data['Chat'])):\n",
    "    chat_data['Chat'][row] = item.preprocess_givendata(chat_data['Chat'][row])\n",
    "\n",
    "chat_data['Chat']"
   ]
  },
  {
   "cell_type": "code",
   "execution_count": 6,
   "metadata": {},
   "outputs": [],
   "source": [
    "shuffle_df = chat_data.sample(n=len(chat_data), random_state=21)\n",
    "x_train,x_test,y_train,y_test=train_test_split(shuffle_df['Chat'],shuffle_df['Group'],test_size=0.20,random_state = 21)"
   ]
  },
  {
   "cell_type": "code",
   "execution_count": 7,
   "metadata": {},
   "outputs": [
    {
     "name": "stdout",
     "output_type": "stream",
     "text": [
      "              precision    recall  f1-score   support\n",
      "\n",
      "           1       1.00      1.00      1.00        14\n",
      "           2       1.00      1.00      1.00        13\n",
      "           3       0.88      1.00      0.93        14\n",
      "           4       0.86      0.80      0.83        15\n",
      "           5       0.92      0.85      0.88        13\n",
      "           6       1.00      1.00      1.00        15\n",
      "           7       1.00      1.00      1.00        14\n",
      "           8       1.00      1.00      1.00         5\n",
      "\n",
      "    accuracy                           0.95       103\n",
      "   macro avg       0.96      0.96      0.96       103\n",
      "weighted avg       0.95      0.95      0.95       103\n",
      "\n"
     ]
    },
    {
     "name": "stderr",
     "output_type": "stream",
     "text": [
      "/Users/Chathuranga/opt/anaconda3/lib/python3.8/site-packages/sklearn/linear_model/_sag.py:329: ConvergenceWarning: The max_iter was reached which means the coef_ did not converge\n",
      "  warnings.warn(\"The max_iter was reached which means \"\n"
     ]
    }
   ],
   "source": [
    "# pipe = Pipeline([('Count_Vect',CountVectorizer()),\n",
    "#                  ('tfidf', TfidfTransformer()),\n",
    "#                  ('MNB', MultinomialNB(alpha=0.1))])\n",
    "\n",
    "# pipe = Pipeline([('Count_Vect',CountVectorizer()),\n",
    "#                  ('tfidf', TfidfTransformer()),\n",
    "#                  ('SGD', SGDClassifier(loss='hinge', penalty='l2',alpha=1e-3, random_state=12, max_iter=5, tol=None))])\n",
    "\n",
    "pipe = Pipeline([('Count_Vect',CountVectorizer()),\n",
    "                 ('tfidf', TfidfTransformer()),\n",
    "                 ('LR', LogisticRegression(penalty='l1', n_jobs=1, C=1e5, solver='saga', max_iter=250, random_state=12))])\n",
    "\n",
    "pipe.fit(x_train, y_train)\n",
    "y_pred = pipe.predict(x_test)\n",
    "y_true = y_test\n",
    "\n",
    "print(classification_report(y_true, y_pred))"
   ]
  },
  {
   "cell_type": "code",
   "execution_count": 8,
   "metadata": {},
   "outputs": [
    {
     "data": {
      "text/plain": [
       "array([[14,  0,  0,  0,  0,  0,  0,  0],\n",
       "       [ 0, 13,  0,  0,  0,  0,  0,  0],\n",
       "       [ 0,  0, 14,  0,  0,  0,  0,  0],\n",
       "       [ 0,  0,  2, 12,  1,  0,  0,  0],\n",
       "       [ 0,  0,  0,  2, 11,  0,  0,  0],\n",
       "       [ 0,  0,  0,  0,  0, 15,  0,  0],\n",
       "       [ 0,  0,  0,  0,  0,  0, 14,  0],\n",
       "       [ 0,  0,  0,  0,  0,  0,  0,  5]])"
      ]
     },
     "execution_count": 8,
     "metadata": {},
     "output_type": "execute_result"
    }
   ],
   "source": [
    "confusion_matrix(y_true, y_pred,labels=[1, 2, 3, 4, 5, 6, 7, 8])"
   ]
  },
  {
   "cell_type": "code",
   "execution_count": 9,
   "metadata": {},
   "outputs": [
    {
     "data": {
      "text/plain": [
       "['Group_model.sav']"
      ]
     },
     "execution_count": 9,
     "metadata": {},
     "output_type": "execute_result"
    }
   ],
   "source": [
    "# save the model to disk\n",
    "filename = 'Group_model.sav'\n",
    "joblib.dump(pipe, filename)"
   ]
  },
  {
   "cell_type": "code",
   "execution_count": 10,
   "metadata": {},
   "outputs": [],
   "source": [
    "# load the model from disk\n",
    "# loaded_model = joblib.load(\"Group_model.sav\")"
   ]
  },
  {
   "cell_type": "code",
   "execution_count": 11,
   "metadata": {},
   "outputs": [
    {
     "data": {
      "text/plain": [
       "'Hi There'"
      ]
     },
     "execution_count": 11,
     "metadata": {},
     "output_type": "execute_result"
    }
   ],
   "source": [
    "item.preprocess(\"Hi There\")"
   ]
  },
  {
   "cell_type": "code",
   "execution_count": 12,
   "metadata": {},
   "outputs": [],
   "source": [
    "# loaded_model.predict([item.preprocess(\"Hi There\")])\n",
    "# print(x_test)"
   ]
  },
  {
   "cell_type": "code",
   "execution_count": 13,
   "metadata": {},
   "outputs": [
    {
     "name": "stdout",
     "output_type": "stream",
     "text": [
      "Pass\n"
     ]
    },
    {
     "data": {
      "text/plain": [
       "\"interjection i 'm username . usergreet . i need to know about hair gservice and gservice . reservation for lalith\""
      ]
     },
     "execution_count": 13,
     "metadata": {},
     "output_type": "execute_result"
    }
   ],
   "source": [
    "item.preprocess_givendata(\"Hi I'm Mudith. Good Morning. I need to know about hair cut and coloring. Reservation for Lalith\")"
   ]
  },
  {
   "cell_type": "code",
   "execution_count": 14,
   "metadata": {},
   "outputs": [],
   "source": [
    "item.check_client_name(\"Yes it's for Lalith\")"
   ]
  },
  {
   "cell_type": "code",
   "execution_count": 15,
   "metadata": {},
   "outputs": [
    {
     "data": {
      "text/html": [
       "<div>\n",
       "<style scoped>\n",
       "    .dataframe tbody tr th:only-of-type {\n",
       "        vertical-align: middle;\n",
       "    }\n",
       "\n",
       "    .dataframe tbody tr th {\n",
       "        vertical-align: top;\n",
       "    }\n",
       "\n",
       "    .dataframe thead th {\n",
       "        text-align: right;\n",
       "    }\n",
       "</style>\n",
       "<table border=\"1\" class=\"dataframe\">\n",
       "  <thead>\n",
       "    <tr style=\"text-align: right;\">\n",
       "      <th></th>\n",
       "      <th>chat</th>\n",
       "      <th>actual</th>\n",
       "      <th>pred</th>\n",
       "    </tr>\n",
       "  </thead>\n",
       "  <tbody>\n",
       "    <tr>\n",
       "      <th>468</th>\n",
       "      <td>interjection is it possible to cancel my appoi...</td>\n",
       "      <td>7</td>\n",
       "      <td>7</td>\n",
       "    </tr>\n",
       "    <tr>\n",
       "      <th>205</th>\n",
       "      <td>I would like to know about gservice prices</td>\n",
       "      <td>4</td>\n",
       "      <td>4</td>\n",
       "    </tr>\n",
       "    <tr>\n",
       "      <th>311</th>\n",
       "      <td>interjection usergreet I need to get gservice</td>\n",
       "      <td>5</td>\n",
       "      <td>5</td>\n",
       "    </tr>\n",
       "    <tr>\n",
       "      <th>152</th>\n",
       "      <td>interjection usergreet . I am username . I nee...</td>\n",
       "      <td>3</td>\n",
       "      <td>3</td>\n",
       "    </tr>\n",
       "    <tr>\n",
       "      <th>374</th>\n",
       "      <td>ohh interjection . i would like to change my r...</td>\n",
       "      <td>6</td>\n",
       "      <td>6</td>\n",
       "    </tr>\n",
       "    <tr>\n",
       "      <th>425</th>\n",
       "      <td>interjection I want to remove appointment day</td>\n",
       "      <td>7</td>\n",
       "      <td>7</td>\n",
       "    </tr>\n",
       "    <tr>\n",
       "      <th>390</th>\n",
       "      <td>usergreet I like to change my appointment time...</td>\n",
       "      <td>6</td>\n",
       "      <td>6</td>\n",
       "    </tr>\n",
       "    <tr>\n",
       "      <th>79</th>\n",
       "      <td>I am username hope you are doing well</td>\n",
       "      <td>2</td>\n",
       "      <td>2</td>\n",
       "    </tr>\n",
       "    <tr>\n",
       "      <th>398</th>\n",
       "      <td>usergreet I like to change time for my reserva...</td>\n",
       "      <td>6</td>\n",
       "      <td>6</td>\n",
       "    </tr>\n",
       "    <tr>\n",
       "      <th>2</th>\n",
       "      <td>interjection I 'm username</td>\n",
       "      <td>1</td>\n",
       "      <td>1</td>\n",
       "    </tr>\n",
       "    <tr>\n",
       "      <th>271</th>\n",
       "      <td>usergreet I need to check</td>\n",
       "      <td>4</td>\n",
       "      <td>4</td>\n",
       "    </tr>\n",
       "    <tr>\n",
       "      <th>123</th>\n",
       "      <td>usergreet My name is username how are you ?</td>\n",
       "      <td>2</td>\n",
       "      <td>2</td>\n",
       "    </tr>\n",
       "    <tr>\n",
       "      <th>434</th>\n",
       "      <td>usergreet can you remove appointment</td>\n",
       "      <td>7</td>\n",
       "      <td>7</td>\n",
       "    </tr>\n",
       "  </tbody>\n",
       "</table>\n",
       "</div>"
      ],
      "text/plain": [
       "                                                  chat  actual  pred\n",
       "468  interjection is it possible to cancel my appoi...       7     7\n",
       "205         I would like to know about gservice prices       4     4\n",
       "311      interjection usergreet I need to get gservice       5     5\n",
       "152  interjection usergreet . I am username . I nee...       3     3\n",
       "374  ohh interjection . i would like to change my r...       6     6\n",
       "425      interjection I want to remove appointment day       7     7\n",
       "390  usergreet I like to change my appointment time...       6     6\n",
       "79               I am username hope you are doing well       2     2\n",
       "398  usergreet I like to change time for my reserva...       6     6\n",
       "2                           interjection I 'm username       1     1\n",
       "271                          usergreet I need to check       4     4\n",
       "123        usergreet My name is username how are you ?       2     2\n",
       "434               usergreet can you remove appointment       7     7"
      ]
     },
     "execution_count": 15,
     "metadata": {},
     "output_type": "execute_result"
    }
   ],
   "source": [
    "d = {'chat': x_test, 'actual': y_test, 'pred': y_pred}\n",
    "len(y_train)\n",
    "df = pd.DataFrame(data=d)\n",
    "df[90:]"
   ]
  },
  {
   "cell_type": "code",
   "execution_count": 16,
   "metadata": {},
   "outputs": [],
   "source": [
    "pipe_data = pipe.steps[2][1]"
   ]
  },
  {
   "cell_type": "code",
   "execution_count": 17,
   "metadata": {},
   "outputs": [],
   "source": [
    "coefs = np.abs(pipe_data.coef_[0])\n",
    "indices = np.argsort(coefs)[::-1]\n",
    "feature_set = pipe.steps[0][1].get_feature_names()"
   ]
  },
  {
   "cell_type": "code",
   "execution_count": 18,
   "metadata": {},
   "outputs": [
    {
     "data": {
      "text/html": [
       "<div>\n",
       "<style scoped>\n",
       "    .dataframe tbody tr th:only-of-type {\n",
       "        vertical-align: middle;\n",
       "    }\n",
       "\n",
       "    .dataframe tbody tr th {\n",
       "        vertical-align: top;\n",
       "    }\n",
       "\n",
       "    .dataframe thead th {\n",
       "        text-align: right;\n",
       "    }\n",
       "</style>\n",
       "<table border=\"1\" class=\"dataframe\">\n",
       "  <thead>\n",
       "    <tr style=\"text-align: right;\">\n",
       "      <th></th>\n",
       "      <th>Word</th>\n",
       "      <th>Importance</th>\n",
       "    </tr>\n",
       "  </thead>\n",
       "  <tbody>\n",
       "    <tr>\n",
       "      <th>66</th>\n",
       "      <td>meet</td>\n",
       "      <td>10.139860</td>\n",
       "    </tr>\n",
       "    <tr>\n",
       "      <th>9</th>\n",
       "      <td>are</td>\n",
       "      <td>9.070315</td>\n",
       "    </tr>\n",
       "    <tr>\n",
       "      <th>32</th>\n",
       "      <td>fine</td>\n",
       "      <td>8.465201</td>\n",
       "    </tr>\n",
       "    <tr>\n",
       "      <th>56</th>\n",
       "      <td>interjection</td>\n",
       "      <td>7.110803</td>\n",
       "    </tr>\n",
       "    <tr>\n",
       "      <th>51</th>\n",
       "      <td>how</td>\n",
       "      <td>6.912230</td>\n",
       "    </tr>\n",
       "    <tr>\n",
       "      <th>27</th>\n",
       "      <td>day</td>\n",
       "      <td>6.324049</td>\n",
       "    </tr>\n",
       "    <tr>\n",
       "      <th>49</th>\n",
       "      <td>hola</td>\n",
       "      <td>6.222168</td>\n",
       "    </tr>\n",
       "    <tr>\n",
       "      <th>127</th>\n",
       "      <td>yo</td>\n",
       "      <td>6.189634</td>\n",
       "    </tr>\n",
       "    <tr>\n",
       "      <th>113</th>\n",
       "      <td>usergreet</td>\n",
       "      <td>6.030472</td>\n",
       "    </tr>\n",
       "    <tr>\n",
       "      <th>58</th>\n",
       "      <td>it</td>\n",
       "      <td>5.694270</td>\n",
       "    </tr>\n",
       "    <tr>\n",
       "      <th>114</th>\n",
       "      <td>username</td>\n",
       "      <td>5.551265</td>\n",
       "    </tr>\n",
       "    <tr>\n",
       "      <th>128</th>\n",
       "      <td>you</td>\n",
       "      <td>5.477008</td>\n",
       "    </tr>\n",
       "    <tr>\n",
       "      <th>39</th>\n",
       "      <td>glad</td>\n",
       "      <td>5.303477</td>\n",
       "    </tr>\n",
       "    <tr>\n",
       "      <th>0</th>\n",
       "      <td>about</td>\n",
       "      <td>5.105126</td>\n",
       "    </tr>\n",
       "    <tr>\n",
       "      <th>59</th>\n",
       "      <td>know</td>\n",
       "      <td>5.021080</td>\n",
       "    </tr>\n",
       "    <tr>\n",
       "      <th>111</th>\n",
       "      <td>to</td>\n",
       "      <td>4.972458</td>\n",
       "    </tr>\n",
       "    <tr>\n",
       "      <th>71</th>\n",
       "      <td>name</td>\n",
       "      <td>4.834142</td>\n",
       "    </tr>\n",
       "    <tr>\n",
       "      <th>108</th>\n",
       "      <td>there</td>\n",
       "      <td>4.768235</td>\n",
       "    </tr>\n",
       "    <tr>\n",
       "      <th>44</th>\n",
       "      <td>gservice</td>\n",
       "      <td>4.704378</td>\n",
       "    </tr>\n",
       "    <tr>\n",
       "      <th>72</th>\n",
       "      <td>need</td>\n",
       "      <td>4.693139</td>\n",
       "    </tr>\n",
       "  </tbody>\n",
       "</table>\n",
       "</div>"
      ],
      "text/plain": [
       "             Word  Importance\n",
       "66           meet   10.139860\n",
       "9             are    9.070315\n",
       "32           fine    8.465201\n",
       "56   interjection    7.110803\n",
       "51            how    6.912230\n",
       "27            day    6.324049\n",
       "49           hola    6.222168\n",
       "127            yo    6.189634\n",
       "113     usergreet    6.030472\n",
       "58             it    5.694270\n",
       "114      username    5.551265\n",
       "128           you    5.477008\n",
       "39           glad    5.303477\n",
       "0           about    5.105126\n",
       "59           know    5.021080\n",
       "111            to    4.972458\n",
       "71           name    4.834142\n",
       "108         there    4.768235\n",
       "44       gservice    4.704378\n",
       "72           need    4.693139"
      ]
     },
     "execution_count": 18,
     "metadata": {},
     "output_type": "execute_result"
    }
   ],
   "source": [
    "impordf = pd.DataFrame({'Word' : feature_set,'Importance' : coefs})\n",
    "impordf = impordf.sort_values(['Importance', 'Word'], ascending=[0, 1])\n",
    "impordf.head(20)"
   ]
  },
  {
   "cell_type": "code",
   "execution_count": 19,
   "metadata": {},
   "outputs": [
    {
     "data": {
      "image/png": "[encoded data removed]",
      "text/plain": [
       "<Figure size 576x576 with 1 Axes>"
      ]
     },
     "metadata": {
      "needs_background": "light"
     },
     "output_type": "display_data"
    }
   ],
   "source": [
    "import matplotlib.pyplot as plt\n",
    "import seaborn as sns\n",
    "\n",
    "fig_dims = (8, 8)\n",
    "fig, ax = plt.subplots(figsize=fig_dims)\n",
    "# plt.ylabel('Importance')\n",
    "sns.barplot(x = \"Word\",\n",
    "            y = \"Importance\", \n",
    "            data=impordf.head(20))\n",
    "plt.xticks(rotation=45, ha='right')\n",
    "# ax.set(ylabel='Importance')\n",
    "plt.show()"
   ]
  },
  {
   "cell_type": "code",
   "execution_count": null,
   "metadata": {},
   "outputs": [],
   "source": []
  }
 ],
 "metadata": {
  "kernelspec": {
   "display_name": "Python 3",
   "language": "python",
   "name": "python3"
  },
  "language_info": {
   "codemirror_mode": {
    "name": "ipython",
    "version": 3
   },
   "file_extension": ".py",
   "mimetype": "text/x-python",
   "name": "python",
   "nbconvert_exporter": "python",
   "pygments_lexer": "ipython3",
   "version": "3.8.3"
  }
 },
 "nbformat": 4,
 "nbformat_minor": 4
}
