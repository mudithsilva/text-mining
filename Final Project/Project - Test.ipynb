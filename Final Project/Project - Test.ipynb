{
 "cells": [
  {
   "cell_type": "code",
   "execution_count": 1,
   "metadata": {},
   "outputs": [],
   "source": [
    "import spacy\n",
    "from proj_helper import Helper\n",
    "import pandas as pd\n",
    "\n",
    "from colorit import *"
   ]
  },
  {
   "cell_type": "code",
   "execution_count": 2,
   "metadata": {},
   "outputs": [],
   "source": [
    "mybot = Helper()"
   ]
  },
  {
   "cell_type": "code",
   "execution_count": 3,
   "metadata": {},
   "outputs": [],
   "source": [
    "# item.get_chat_response(\"Actually I need to check hair cut prices\")"
   ]
  },
  {
   "cell_type": "code",
   "execution_count": 4,
   "metadata": {},
   "outputs": [],
   "source": [
    "def append_df_to_excel(filename, df, sheet_name='Sheet1', startrow=None,\n",
    "                       truncate_sheet=False, \n",
    "                       **to_excel_kwargs):\n",
    "    \"\"\"\n",
    "    Append a DataFrame [df] to existing Excel file [filename]\n",
    "    into [sheet_name] Sheet.\n",
    "    If [filename] doesn't exist, then this function will create it.\n",
    "\n",
    "    Parameters:\n",
    "      filename : File path or existing ExcelWriter\n",
    "                 (Example: '/path/to/file.xlsx')\n",
    "      df : dataframe to save to workbook\n",
    "      sheet_name : Name of sheet which will contain DataFrame.\n",
    "                   (default: 'Sheet1')\n",
    "      startrow : upper left cell row to dump data frame.\n",
    "                 Per default (startrow=None) calculate the last row\n",
    "                 in the existing DF and write to the next row...\n",
    "      truncate_sheet : truncate (remove and recreate) [sheet_name]\n",
    "                       before writing DataFrame to Excel file\n",
    "      to_excel_kwargs : arguments which will be passed to `DataFrame.to_excel()`\n",
    "                        [can be dictionary]\n",
    "\n",
    "    Returns: None\n",
    "\n",
    "    \"\"\"\n",
    "    from openpyxl import load_workbook\n",
    "\n",
    "    # ignore [engine] parameter if it was passed\n",
    "    if 'engine' in to_excel_kwargs:\n",
    "        to_excel_kwargs.pop('engine')\n",
    "\n",
    "    writer = pd.ExcelWriter(filename, engine='openpyxl')\n",
    "\n",
    "    # Python 2.x: define [FileNotFoundError] exception if it doesn't exist \n",
    "    try:\n",
    "        FileNotFoundError\n",
    "    except NameError:\n",
    "        FileNotFoundError = IOError\n",
    "\n",
    "\n",
    "    try:\n",
    "        # try to open an existing workbook\n",
    "        writer.book = load_workbook(filename)\n",
    "        \n",
    "        # get the last row in the existing Excel sheet\n",
    "        # if it was not specified explicitly\n",
    "        if startrow is None and sheet_name in writer.book.sheetnames:\n",
    "            startrow = writer.book[sheet_name].max_row\n",
    "\n",
    "        # truncate sheet\n",
    "        if truncate_sheet and sheet_name in writer.book.sheetnames:\n",
    "            # index of [sheet_name] sheet\n",
    "            idx = writer.book.sheetnames.index(sheet_name)\n",
    "            # remove [sheet_name]\n",
    "            writer.book.remove(writer.book.worksheets[idx])\n",
    "            # create an empty sheet [sheet_name] using old index\n",
    "            writer.book.create_sheet(sheet_name, idx)\n",
    "        \n",
    "        # copy existing sheets\n",
    "        writer.sheets = {ws.title:ws for ws in writer.book.worksheets}\n",
    "    except FileNotFoundError:\n",
    "        # file does not exist yet, we will create it\n",
    "        pass\n",
    "\n",
    "    if startrow is None:\n",
    "        startrow = 0\n",
    "\n",
    "    # write out the new sheet\n",
    "    df.to_excel(writer, sheet_name, startrow=startrow, **to_excel_kwargs)\n",
    "\n",
    "    # save the workbook\n",
    "    writer.save()"
   ]
  },
  {
   "cell_type": "code",
   "execution_count": 5,
   "metadata": {},
   "outputs": [],
   "source": [
    "def savebotchats():\n",
    "    rating = {'sessionID': [bot_session_id], \n",
    "              'rating': [session_rating]}\n",
    "    df1 = pd.DataFrame(data=rating)\n",
    "    append_df_to_excel('chatbot_rating.xlsx', df1)\n",
    "    \n",
    "    history = {'sessionID': sessionID * len(botchat), \n",
    "               'userchat': userchat,\n",
    "               'botchat': botchat,\n",
    "               'predgroup': predgroup}\n",
    "    df2 = pd.DataFrame(data=history)\n",
    "    append_df_to_excel('chatbot_chat_history.xlsx', df2)"
   ]
  },
  {
   "cell_type": "code",
   "execution_count": 6,
   "metadata": {},
   "outputs": [],
   "source": [
    "bot_session_id = len(pd.read_excel('chatbot_rating.xlsx', header=0))\n",
    "\n",
    "botchat = []\n",
    "userchat = []\n",
    "predgroup = []\n",
    "sessionID = [bot_session_id]\n",
    "session_rating = 0"
   ]
  },
  {
   "cell_type": "code",
   "execution_count": null,
   "metadata": {},
   "outputs": [
    {
     "name": "stdout",
     "output_type": "stream",
     "text": [
      "\u001b[38;2;71;177;252mSorry, I'm not available now. Chatbot will help you for service check, put/change/cancel appointments.\u001b[0m \n",
      " \u001b[38;2;71;177;252m* Please make sure to ask one service or request at once.\u001b[0m \n",
      " \u001b[38;2;71;177;252m* Chat will be auto closed after one sucessful request for put/change/remove appointment.\u001b[0m \n",
      " \u001b[38;2;71;177;252m* Please use a seperate chat, If you have multiple appoitment requests.\u001b[0m \n",
      " \u001b[38;2;71;177;252m* Type 'EXIT' if it's not responding to your requests.\u001b[0m \n",
      "\n",
      "Your Reply: Hi How are you?\n",
      "\n",
      " \u001b[38;2;245;90;66mChatbot Reply: \u001b[0m \u001b[38;2;245;90;66mGood Evening I'm doing fine ! :)  How can I help you?\u001b[0m \n",
      "\n",
      "Your Reply: I need to know about men haircut\n",
      "\n",
      " \u001b[38;2;245;90;66mChatbot Reply: \u001b[0m \u001b[38;2;245;90;66mWe have special haircut styles for Men. From $ 20\u001b[0m \n",
      "\n",
      "Your Reply: Okay, I need an appointment\n",
      "\n",
      " \u001b[38;2;245;90;66mChatbot Reply: \u001b[0m \u001b[38;2;245;90;66mAwesome ! For the appointment inquiry process, I just need some details from you :)First I need the person name for the appointment :)\u001b[0m \n",
      "\n",
      "Your Reply: Appointment for Chathuranga\n",
      "\n",
      " \u001b[38;2;245;90;66mChatbot Reply: \u001b[0m \u001b[38;2;245;90;66mOhh okay :) So the appointment for Chathuranga? Right ? :)\u001b[0m \n",
      "\n",
      "Your Reply: yes\n",
      "\n",
      " \u001b[38;2;245;90;66mChatbot Reply: \u001b[0m \u001b[38;2;245;90;66mOkay. Now could you please provide preferred date, required service and contact number?\u001b[0m \n",
      "\n"
     ]
    }
   ],
   "source": [
    "stop_chatbot = False\n",
    "# Use this to ensure that ColorIt will be usable by certain command line interfaces\n",
    "init_colorit()\n",
    "\n",
    "print(color(\"Sorry, I'm not available now. Chatbot will help you for service check, put/change/cancel appointments.\", Colors.blue),'\\n',\n",
    "     color(\"* Please make sure to ask one service or request at once.\", Colors.blue),'\\n',\n",
    "     color(\"* Chat will be auto closed after one sucessful request for put/change/remove appointment.\", Colors.blue),'\\n',\n",
    "     color(\"* Please use a seperate chat, If you have multiple appoitment requests.\", Colors.blue),'\\n',\n",
    "     color(\"* Type 'EXIT' if it's not responding to your requests.\", Colors.blue),'\\n')\n",
    "while not stop_chatbot:\n",
    "    user_input = input(\"Your Reply: \")\n",
    "    userchat.append(user_input)\n",
    "    \n",
    "    if user_input == 'EXIT':\n",
    "        stop_chatbot = True\n",
    "        predgroup.append(0)\n",
    "        botchat.append('EXIT_BOT')\n",
    "        \n",
    "        session_rating = 0 # EXIT Due to interuption\n",
    "        savebotchats()\n",
    "        \n",
    "    else:\n",
    "        bot_reply = mybot.get_chat_response(user_input)\n",
    "        predgroup.append(mybot.current_group)\n",
    "        botchat.append(bot_reply)\n",
    "        \n",
    "        print('\\n',color('Chatbot Reply: ', Colors.red),color(bot_reply, Colors.red),'\\n')\n",
    "        if mybot.is_exit_chat == True:\n",
    "            stop_chatbot = True\n",
    "            session_rating = int(input(\"Please rate Chatbot to scale 1-5. \\(1 - unsatisfied, .. 5 - Highly Satisfied)\\: \"))\n",
    "            savebotchats()"
   ]
  },
  {
   "cell_type": "markdown",
   "metadata": {},
   "source": [
    "References <br>\n",
    "01. https://machinelearningmastery.com/save-load-machine-learning-models-python-scikit-learn/ <br>\n",
    "02. Added interjections <br>\n",
    "03. https://stackoverflow.com/questions/20219254/how-to-write-to-an-existing-excel-file-without-overwriting-data-using-pandas"
   ]
  },
  {
   "cell_type": "code",
   "execution_count": null,
   "metadata": {},
   "outputs": [],
   "source": []
  }
 ],
 "metadata": {
  "kernelspec": {
   "display_name": "Python 3",
   "language": "python",
   "name": "python3"
  },
  "language_info": {
   "codemirror_mode": {
    "name": "ipython",
    "version": 3
   },
   "file_extension": ".py",
   "mimetype": "text/x-python",
   "name": "python",
   "nbconvert_exporter": "python",
   "pygments_lexer": "ipython3",
   "version": "3.8.3"
  }
 },
 "nbformat": 4,
 "nbformat_minor": 4
}
