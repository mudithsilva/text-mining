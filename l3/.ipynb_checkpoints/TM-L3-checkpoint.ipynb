{
 "cells": [
  {
   "cell_type": "markdown",
   "metadata": {},
   "source": [
    "# L3: Text clustering and topic modelling"
   ]
  },
  {
   "cell_type": "markdown",
   "metadata": {},
   "source": [
    "Text clustering groups documents in such a way that documents within a group are more &lsquo;similar&rsquo; to other documents in the cluster than to documents not in the cluster. The exact definition of what &lsquo;similar&rsquo; means in this context varies across applications and clustering algorithms.\n",
    "\n",
    "In this lab you will experiment with both hard and soft clustering techniques. More specifically, in the first part you will be using the $k$-means algorithm, and in the second part you will be using a topic model based on the Latent Dirichlet Allocation (LDA)."
   ]
  },
  {
   "cell_type": "markdown",
   "metadata": {},
   "source": [
    "## Hard clustering data set"
   ]
  },
  {
   "cell_type": "markdown",
   "metadata": {},
   "source": [
    "The raw data for the hard clustering part of this lab is a collection of product reviews. We have preprocessed the data by tokenization and lowercasing."
   ]
  },
  {
   "cell_type": "code",
   "execution_count": 1,
   "metadata": {},
   "outputs": [],
   "source": [
    "import pandas as pd\n",
    "import bz2\n",
    "\n",
    "with bz2.open('reviews.json.bz2') as source:\n",
    "    df = pd.read_json(source)"
   ]
  },
  {
   "cell_type": "markdown",
   "metadata": {},
   "source": [
    "When you inspect the data frame, you can see that there are three labelled columns: `category` (the product category), `sentiment` (whether the product review was classified as &lsquo;positive&rsquo; or &lsquo;negative&rsquo; towards the product), and `text` (the space-separated text of the review)."
   ]
  },
  {
   "cell_type": "code",
   "execution_count": 2,
   "metadata": {},
   "outputs": [
    {
     "data": {
      "text/html": [
       "<div>\n",
       "<style scoped>\n",
       "    .dataframe tbody tr th:only-of-type {\n",
       "        vertical-align: middle;\n",
       "    }\n",
       "\n",
       "    .dataframe tbody tr th {\n",
       "        vertical-align: top;\n",
       "    }\n",
       "\n",
       "    .dataframe thead th {\n",
       "        text-align: right;\n",
       "    }\n",
       "</style>\n",
       "<table border=\"1\" class=\"dataframe\">\n",
       "  <thead>\n",
       "    <tr style=\"text-align: right;\">\n",
       "      <th></th>\n",
       "      <th>category</th>\n",
       "      <th>sentiment</th>\n",
       "      <th>text</th>\n",
       "    </tr>\n",
       "  </thead>\n",
       "  <tbody>\n",
       "    <tr>\n",
       "      <th>0</th>\n",
       "      <td>music</td>\n",
       "      <td>neg</td>\n",
       "      <td>i bought this album because i loved the title ...</td>\n",
       "    </tr>\n",
       "    <tr>\n",
       "      <th>1</th>\n",
       "      <td>music</td>\n",
       "      <td>neg</td>\n",
       "      <td>i was misled and thought i was buying the enti...</td>\n",
       "    </tr>\n",
       "    <tr>\n",
       "      <th>2</th>\n",
       "      <td>books</td>\n",
       "      <td>neg</td>\n",
       "      <td>i have introduced many of my ell , high school...</td>\n",
       "    </tr>\n",
       "    <tr>\n",
       "      <th>3</th>\n",
       "      <td>books</td>\n",
       "      <td>pos</td>\n",
       "      <td>anything you purchase in the left behind serie...</td>\n",
       "    </tr>\n",
       "    <tr>\n",
       "      <th>4</th>\n",
       "      <td>dvd</td>\n",
       "      <td>pos</td>\n",
       "      <td>i loved these movies , and i cant wiat for the...</td>\n",
       "    </tr>\n",
       "  </tbody>\n",
       "</table>\n",
       "</div>"
      ],
      "text/plain": [
       "  category sentiment                                               text\n",
       "0    music       neg  i bought this album because i loved the title ...\n",
       "1    music       neg  i was misled and thought i was buying the enti...\n",
       "2    books       neg  i have introduced many of my ell , high school...\n",
       "3    books       pos  anything you purchase in the left behind serie...\n",
       "4      dvd       pos  i loved these movies , and i cant wiat for the..."
      ]
     },
     "execution_count": 2,
     "metadata": {},
     "output_type": "execute_result"
    }
   ],
   "source": [
    "df.head()"
   ]
  },
  {
   "cell_type": "code",
   "execution_count": 3,
   "metadata": {},
   "outputs": [
    {
     "data": {
      "text/plain": [
       "dvd         2000\n",
       "books       2000\n",
       "health      2000\n",
       "music       2000\n",
       "camera      1999\n",
       "software    1915\n",
       "Name: category, dtype: int64"
      ]
     },
     "execution_count": 3,
     "metadata": {},
     "output_type": "execute_result"
    }
   ],
   "source": [
    "category_df = pd.value_counts(df['category'])\n",
    "category_df"
   ]
  },
  {
   "cell_type": "markdown",
   "metadata": {},
   "source": [
    "## Problem 1: K-means clustering"
   ]
  },
  {
   "cell_type": "markdown",
   "metadata": {},
   "source": [
    "Your first task is to cluster the product review data using a tf–idf vectorizer and a $k$-means clusterer."
   ]
  },
  {
   "cell_type": "markdown",
   "metadata": {},
   "source": [
    "Start by doing the vectorization. In connection with vectorization, you should also filter out standard English stop words. While you could use [spaCy](https://spacy.io/) for this task, here it suffices to use the word list implemented in [TfidfVectorizer](https://scikit-learn.org/stable/modules/generated/sklearn.feature_extraction.text.TfidfVectorizer.html)."
   ]
  },
  {
   "cell_type": "code",
   "execution_count": 4,
   "metadata": {},
   "outputs": [],
   "source": [
    "import spacy\n",
    "import numpy as np\n",
    "from sklearn.feature_extraction.text import TfidfVectorizer"
   ]
  },
  {
   "cell_type": "code",
   "execution_count": 5,
   "metadata": {},
   "outputs": [],
   "source": [
    "# TODO: Enter code here to vectorize the data and store it in a variable `reviews`\n",
    "vectorizer = TfidfVectorizer(stop_words='english')\n",
    "reviews = vectorizer.fit_transform(df['text'])"
   ]
  },
  {
   "cell_type": "markdown",
   "metadata": {},
   "source": [
    "Test your vectorization by running the following code cell:"
   ]
  },
  {
   "cell_type": "code",
   "execution_count": 6,
   "metadata": {},
   "outputs": [
    {
     "data": {
      "text/plain": [
       "(11914, 46619)"
      ]
     },
     "execution_count": 6,
     "metadata": {},
     "output_type": "execute_result"
    }
   ],
   "source": [
    "reviews.shape"
   ]
  },
  {
   "cell_type": "markdown",
   "metadata": {},
   "source": [
    "If you used the English stop word list from scikit-learn, then the resulting vocabulary should have 46,619 entries."
   ]
  },
  {
   "cell_type": "markdown",
   "metadata": {},
   "source": [
    "Next, cluster the vectorized data. Before doing so, you should read the documentation of the [KMeans](https://scikit-learn.org/stable/modules/generated/sklearn.cluster.KMeans.html) class, which is scikit-learn&rsquo;s implementation of the $k$-means algorithm. As you can see, this class has several parameters that you can tweak. For now, the only parameter that you will have to set is the number of clusters. We recommend that you choose $k=3$.\n",
    "\n",
    "**Tip:** Training $k$-means models will take some time. To speed things up, you can use the `n_init` parameter to control the number of times that the clustering is re-computed with different initial values. The default value for this parameter is 10; here and in the rest of this lab, you may want to set this to a lower value."
   ]
  },
  {
   "cell_type": "code",
   "execution_count": 7,
   "metadata": {},
   "outputs": [],
   "source": [
    "from sklearn.cluster import KMeans\n",
    "import matplotlib.pyplot as plt"
   ]
  },
  {
   "cell_type": "code",
   "execution_count": 8,
   "metadata": {},
   "outputs": [],
   "source": [
    "# TODO: Enter code here to cluster the vectorized data\n",
    "# Added Random state in order to get same clssification\n",
    "kmeans = KMeans(n_clusters=3,\n",
    "                n_init=3,\n",
    "                random_state=0).fit(reviews)"
   ]
  },
  {
   "cell_type": "code",
   "execution_count": 9,
   "metadata": {},
   "outputs": [
    {
     "data": {
      "text/plain": [
       "0    8037\n",
       "1    2775\n",
       "2    1102\n",
       "dtype: int64"
      ]
     },
     "execution_count": 9,
     "metadata": {},
     "output_type": "execute_result"
    }
   ],
   "source": [
    "kmeans.labels_\n",
    "class_df = pd.value_counts(kmeans.labels_)\n",
    "class_df"
   ]
  },
  {
   "cell_type": "markdown",
   "metadata": {},
   "source": [
    "To sanity-check your clustering, create a bar plot with the number of documents per cluster."
   ]
  },
  {
   "cell_type": "code",
   "execution_count": 10,
   "metadata": {},
   "outputs": [
    {
     "data": {
      "image/png": "[encoded data removed]",
      "text/plain": [
       "<Figure size 648x648 with 1 Axes>"
      ]
     },
     "metadata": {
      "needs_background": "light"
     },
     "output_type": "display_data"
    }
   ],
   "source": [
    "# TODO: Enter code here to produce a bar plot of the cluster size\n",
    "class_df.plot(kind='bar',figsize=(9, 9))\n",
    "plt.xlabel(\"Class\", labelpad=14)\n",
    "plt.ylabel(\"Count\", labelpad=14)\n",
    "plt.title(\"Class Count\", y=1.02)\n",
    "plt.xticks(rotation=360, ha='right')\n",
    "plt.show()"
   ]
  },
  {
   "cell_type": "markdown",
   "metadata": {},
   "source": [
    "Note that sizes may vary considerable between clusters and among different random seeds."
   ]
  },
  {
   "cell_type": "markdown",
   "metadata": {},
   "source": [
    "## Problem 2: Summarize clusters"
   ]
  },
  {
   "cell_type": "markdown",
   "metadata": {},
   "source": [
    "Once you have a clustering, you can try to see whether it is meaningful. One useful technique in that context is to generate a **summary** for each cluster by extracting the $n$ highest-weighted terms from the centroid of each cluster. Your next task is to implement this approach.\n",
    "\n",
    "**Hint:** You will need to construct an &lsquo;inverted vocabulary&rsquo; that allows you to map from the index of a term back to the original term."
   ]
  },
  {
   "cell_type": "code",
   "execution_count": 11,
   "metadata": {},
   "outputs": [
    {
     "name": "stdout",
     "output_type": "stream",
     "text": [
      "Class 0 top items:\n",
      "['does', 'time', 'album', 'good', 'use', 'just', 'cd', 'great', 'like', 'product'] \n",
      "\n",
      "Class 1 top items:\n",
      "['great', 'good', 'just', 'like', 'story', 'film', 'read', 'quot', 'movie', 'book'] \n",
      "\n",
      "Class 2 top items:\n",
      "['great', 'quality', 'battery', 'flash', 'use', 'digital', 'canon', 'pictures', 'lens', 'camera'] \n",
      "\n"
     ]
    }
   ],
   "source": [
    "# TODO: Enter code here to compute the cluster summaries and print them\n",
    "# vectorizer.vocabulary_.items()\n",
    "word_count_dic = vectorizer.vocabulary_\n",
    "n_items = 10\n",
    "\n",
    "# Sorts along last axis (across)\n",
    "# Returns Feature Indexes in sorted array\n",
    "sorted_indexes = np.argsort(kmeans.cluster_centers_, axis=1)[:,-n_items:]\n",
    "feature_list = {value:key for key,value in word_count_dic.items()}\n",
    "\n",
    "for item in range(sorted_indexes.shape[0]):\n",
    "    print('Class', item, 'top items:')\n",
    "    li = [feature_list[val] for val in sorted_indexes[item,:]]\n",
    "    print(li, '\\n')"
   ]
  },
  {
   "cell_type": "markdown",
   "metadata": {},
   "source": [
    "**Cluster 0 - it's descibing about dvd <br> \n",
    "Cluster 1 - It's describing about books/dvd <br> \n",
    "Cluster 2 - It's describing about camers attributes**"
   ]
  },
  {
   "cell_type": "markdown",
   "metadata": {},
   "source": [
    "Once you have computed the cluster summaries, discuss their quality. Is it clear what the reviews in a given cluster are about? Which clusters are clearest? Which are less clear? Do the cluster summaries contain any unexpected terms? What happens if you re-cluster with, say, $k=6$?"
   ]
  },
  {
   "cell_type": "code",
   "execution_count": 12,
   "metadata": {},
   "outputs": [
    {
     "name": "stdout",
     "output_type": "stream",
     "text": [
      "Class 0 top items:\n",
      "['did', 'time', 'hair', 'does', 'use', 'just', 'like', 'good', 'great', 'product'] \n",
      "\n",
      "Class 1 top items:\n",
      "['written', 'just', 'quot', 'like', 'story', 'reading', 'author', 'books', 'read', 'book'] \n",
      "\n",
      "Class 2 top items:\n",
      "['great', 'quality', 'battery', 'flash', 'use', 'digital', 'canon', 'pictures', 'lens', 'camera'] \n",
      "\n",
      "Class 3 top items:\n",
      "['acting', 'great', 'good', 'just', 'watch', 'story', 'like', 'movies', 'film', 'movie'] \n",
      "\n",
      "Class 4 top items:\n",
      "['band', 'great', 'just', 'like', 'song', 'quot', 'songs', 'music', 'cd', 'album'] \n",
      "\n",
      "Class 5 top items:\n",
      "['microsoft', 'easy', 'windows', 'support', 'computer', 'use', 'version', 'product', 'program', 'software'] \n",
      "\n"
     ]
    }
   ],
   "source": [
    "kmeans6 = KMeans(n_clusters=6,\n",
    "                 n_init=3,\n",
    "                 random_state=0).fit(reviews)\n",
    "\n",
    "word_count_dic = vectorizer.vocabulary_\n",
    "n_items = 10\n",
    "\n",
    "# Sorts along last axis (across)\n",
    "# Returns Feature Indexes in sorted array\n",
    "sorted_indexes = np.argsort(kmeans6.cluster_centers_, axis=1)[:,-n_items:]\n",
    "feature_list = {value:key for key,value in word_count_dic.items()}\n",
    "\n",
    "for item in range(sorted_indexes.shape[0]):\n",
    "    print('Class', item, 'top items:')\n",
    "    li = [feature_list[val] for val in sorted_indexes[item,:]]\n",
    "    print(li, '\\n')"
   ]
  },
  {
   "cell_type": "markdown",
   "metadata": {},
   "source": [
    "*TODO: Insert your analysis of the clusters here <br>*\n",
    "**Cluster 0 - it's describing about health products <br> \n",
    "Cluster 1 - It's describing about books <br> \n",
    "Cluster 2 - It's describing camera <br> \n",
    "Cluster 3 - It's describing about dvd <br> \n",
    "Cluster 4 - It's describing about Music <br> \n",
    "Cluster 5 - It's Describing about software**\n"
   ]
  },
  {
   "cell_type": "markdown",
   "metadata": {},
   "source": [
    "## Problem 3: Compare clusterings using the Rand index"
   ]
  },
  {
   "cell_type": "markdown",
   "metadata": {},
   "source": [
    "In some scenarios, you may have gold-standard class labels available for at least a subset of your documents. In these cases you can compute the **Rand index** of a clustering, and use this measure to compare the quality of different clusterings.\n",
    "\n",
    "To compute the Rand index, we view a clustering as a binary classifier on (unordered) pairs of documents. The classifier predicts &lsquo;positive&rsquo; if and only if the two documents belong to the same cluster. The (non-normalized) Rand index of the clustering is the accuracy of this classifier relative to a reference in which a document pair belongs to the &lsquo;positive&rsquo; class if and only if the two documents in the pair have the same gold-standard class label.\n",
    "\n",
    "Compare clusterings with $k \\in \\{1,3,5,7\\}$ clusters. As your evaluation data, use the first 500 documents from the original data set along with their gold-standard categories (from the `category` column). What do you observe? How do you interpret your observations?"
   ]
  },
  {
   "cell_type": "code",
   "execution_count": 13,
   "metadata": {},
   "outputs": [],
   "source": [
    "from scipy.special import comb\n",
    "\n",
    "def rand_index_score(clusters, classes):\n",
    "    tp_plus_fp = comb(np.bincount(clusters), 2).sum()\n",
    "    tp_plus_fn = comb(np.bincount(classes), 2).sum()\n",
    "    A = np.c_[(clusters, classes)]\n",
    "    tp = sum(comb(np.bincount(A[A[:, 0] == i, 1]), 2).sum()\n",
    "             for i in set(clusters))\n",
    "    fp = tp_plus_fp - tp\n",
    "    fn = tp_plus_fn - tp\n",
    "    tn = comb(len(A), 2) - tp - fp - fn\n",
    "    return (tp + tn) / (tp + fp + fn + tn)"
   ]
  },
  {
   "cell_type": "code",
   "execution_count": 14,
   "metadata": {},
   "outputs": [],
   "source": [
    "# TODO: Enter code here to compute the Rand indices for the two clusterings\n",
    "test_size = 500\n",
    "y_true = df[\"category\"][:test_size].astype(\"category\").cat.codes.values\n",
    "y_pred_k3 = kmeans.predict(reviews[0:test_size, :])\n",
    "y_pred_k6 = kmeans6.predict(reviews[0:test_size, :])\n"
   ]
  },
  {
   "cell_type": "code",
   "execution_count": 15,
   "metadata": {},
   "outputs": [
    {
     "name": "stdout",
     "output_type": "stream",
     "text": [
      "0.56\n",
      "0.7641202404809619\n"
     ]
    }
   ],
   "source": [
    "from sklearn import metrics\n",
    "\n",
    "print(rand_index_score(y_true, y_pred_k3))\n",
    "print(rand_index_score(y_true, y_pred_k6))\n",
    "\n",
    "# print(metrics.adjusted_rand_score(y_true, y_pred_k3))\n",
    "# print(metrics.adjusted_rand_score(y_true, y_pred_k6))"
   ]
  },
  {
   "cell_type": "code",
   "execution_count": 16,
   "metadata": {},
   "outputs": [
    {
     "name": "stdout",
     "output_type": "stream",
     "text": [
      "Rand Index For k = 1  ==>  0.16626052104208416\n",
      "Rand Index For k = 3  ==>  0.56\n",
      "Rand Index For k = 5  ==>  0.7081362725450902\n",
      "Rand Index For k = 7  ==>  0.7701162324649299\n"
     ]
    }
   ],
   "source": [
    "for k in [1,3,5,7]:\n",
    "    cluster_model = KMeans(n_clusters=k,\n",
    "                n_init=3,\n",
    "                random_state=0).fit(reviews)\n",
    "    pred = cluster_model.predict(reviews[0:test_size, :])\n",
    "    print('Rand Index For k =', k, ' ==> ', rand_index_score(y_true, pred))"
   ]
  },
  {
   "cell_type": "markdown",
   "metadata": {},
   "source": [
    "*TODO: Insert your discussion of your results here* <br>\n",
    "**k = 7 has the highest Rand Index. But Originally we have 6 category types and it's clear that higher rand index not always reflects the optimal number of clusters. We need to have some knowldge about the topic rather than stick with the rand index**"
   ]
  },
  {
   "cell_type": "markdown",
   "metadata": {},
   "source": [
    "## Topic modelling data set"
   ]
  },
  {
   "cell_type": "markdown",
   "metadata": {},
   "source": [
    "The data set for the topic modelling part of this lab is the collection of all [State of the Union](https://en.wikipedia.org/wiki/State_of_the_Union) addresses from the years 1975–2000. These speeches come as a single text file with one sentence per line. The following code cell prints the first 5 lines from the data file:"
   ]
  },
  {
   "cell_type": "code",
   "execution_count": 17,
   "metadata": {},
   "outputs": [
    {
     "name": "stdout",
     "output_type": "stream",
     "text": [
      "mr speaker mr vice president members of the 94th congress and distinguished guests\n",
      "twenty six years ago a freshman congressman a young fellow with lots of idealism who was out to change the world stood before sam rayburn in the well of the house and solemnly swore to the same oath that all of you took yesterday an unforgettable experience and i congratulate you all\n",
      "two days later that same freshman stood at the back of this great chamber over there someplace as president truman all charged up by his single handed election victory reported as the constitution requires on the state of the union\n",
      "when the bipartisan applause stopped president truman said i am happy to report to this 81st congress that the state of the union is good our nation is better able than ever before to meet the needs of the american people and to give them their fair chance in the pursuit of happiness it is foremost among the nations of the world in the search for peace\n",
      "today that freshman member from michigan stands where mr truman stood and i must say to you that the state of the union is not good\n",
      "millions of americans are out of work\n"
     ]
    }
   ],
   "source": [
    "with open('sotu_1975_2000.txt') as source:\n",
    "    for i, line in enumerate(source):\n",
    "        print(line.rstrip())\n",
    "        if i >= 5:\n",
    "            break"
   ]
  },
  {
   "cell_type": "markdown",
   "metadata": {},
   "source": [
    "Take a few minutes to think about what topics you would expect in this data set."
   ]
  },
  {
   "cell_type": "markdown",
   "metadata": {},
   "source": [
    "Topics :- Election, Country"
   ]
  },
  {
   "cell_type": "markdown",
   "metadata": {},
   "source": [
    "## Problem 4: Train a topic model"
   ]
  },
  {
   "cell_type": "markdown",
   "metadata": {},
   "source": [
    "Your first task on the topic modelling data is to train an LDA model. For this task you will be using [spaCy](https://spacy.io/) and the [gensim](https://radimrehurek.com/gensim/) topic modelling library.\n",
    "\n",
    "Start by preprocessing the data using spaCy. Given that the data set for this problem is rather small, you do not have to exclude any components from the standard pipeline. Filter out stop words, non-alphabetic tokens, and tokens less than 3 characters in length. Store the documents as a nested list where the first level of nesting corresponds to the sentences and the second level corresponds to the tokens in each sentence."
   ]
  },
  {
   "cell_type": "code",
   "execution_count": 18,
   "metadata": {},
   "outputs": [],
   "source": [
    "# TODO: Replace the following lines with your own code for preprocessing the documents\n",
    "import spacy\n",
    "\n",
    "nlp = spacy.load(\"en_core_web_sm\") \n",
    "\n",
    "def preprocess(text):\n",
    "    doc = nlp(text)\n",
    "    return [token.text for token in doc if not token.is_stop and token.is_alpha and len(token) >= 3] \n",
    "\n",
    "\n",
    "with open('sotu_1975_2000.txt') as source:\n",
    "    documents = [preprocess(line) for line in source]"
   ]
  },
  {
   "cell_type": "markdown",
   "metadata": {},
   "source": [
    "Test your preprocessing by running the following cell:"
   ]
  },
  {
   "cell_type": "code",
   "execution_count": 19,
   "metadata": {},
   "outputs": [
    {
     "data": {
      "text/plain": [
       "'reduce oil imports million barrels day end year million barrels day end'"
      ]
     },
     "execution_count": 19,
     "metadata": {},
     "output_type": "execute_result"
    }
   ],
   "source": [
    "' '.join(documents[42])"
   ]
  },
  {
   "cell_type": "markdown",
   "metadata": {},
   "source": [
    "You should get the following output:"
   ]
  },
  {
   "cell_type": "raw",
   "metadata": {},
   "source": [
    "'reduce oil imports million barrels day end year million barrels day end'"
   ]
  },
  {
   "cell_type": "markdown",
   "metadata": {},
   "source": [
    "Once you have the list of documents, skim the section [Pre-process and vectorize the documents](https://radimrehurek.com/gensim/auto_examples/tutorials/run_lda.html#pre-process-and-vectorize-the-documents) of the gensim documentation to learn how to create the dictionary and the vectorized corpus representation required by gensim. (Note that you cannot use the standard scikit-learn pipeline in this case.) Then, write code to train an [LdaModel](https://radimrehurek.com/gensim/models/ldamodel.html) for $k=10$ topics, and using default values for all other parameters."
   ]
  },
  {
   "cell_type": "code",
   "execution_count": 20,
   "metadata": {},
   "outputs": [],
   "source": [
    "# TODO: Enter code here to train an LDA model and store it in a variable `model`\n",
    "from gensim.corpora import Dictionary\n",
    "\n",
    "dictionary = Dictionary(documents)\n",
    "# Filter out words that occur less than 20 documents, or more than 50% of the documents.\n",
    "dictionary.filter_extremes(no_below=20, no_above=0.5)\n",
    "\n",
    "# Bag-of-words representation of the documents.\n",
    "corpus = [dictionary.doc2bow(doc) for doc in documents]"
   ]
  },
  {
   "cell_type": "markdown",
   "metadata": {},
   "source": [
    "Once you have a trained model, run the following cell to print the topics:"
   ]
  },
  {
   "cell_type": "code",
   "execution_count": 21,
   "metadata": {},
   "outputs": [
    {
     "data": {
      "text/plain": [
       "[(0,\n",
       "  '0.022*\"nation\" + 0.017*\"people\" + 0.014*\"tonight\" + 0.013*\"world\" + 0.013*\"america\" + 0.013*\"peace\" + 0.012*\"security\" + 0.012*\"year\" + 0.011*\"families\" + 0.011*\"government\"'),\n",
       " (1,\n",
       "  '0.021*\"children\" + 0.019*\"tax\" + 0.018*\"new\" + 0.014*\"help\" + 0.010*\"crime\" + 0.010*\"congress\" + 0.010*\"support\" + 0.010*\"need\" + 0.010*\"people\" + 0.010*\"year\"'),\n",
       " (2,\n",
       "  '0.029*\"new\" + 0.022*\"congress\" + 0.017*\"want\" + 0.015*\"people\" + 0.014*\"energy\" + 0.013*\"right\" + 0.010*\"trade\" + 0.010*\"legislation\" + 0.010*\"bill\" + 0.010*\"act\"'),\n",
       " (3,\n",
       "  '0.018*\"world\" + 0.018*\"years\" + 0.015*\"education\" + 0.015*\"schools\" + 0.013*\"help\" + 0.013*\"year\" + 0.012*\"country\" + 0.012*\"welfare\" + 0.011*\"children\" + 0.010*\"time\"'),\n",
       " (4,\n",
       "  '0.038*\"health\" + 0.036*\"care\" + 0.024*\"thank\" + 0.019*\"support\" + 0.019*\"school\" + 0.018*\"medicare\" + 0.018*\"americans\" + 0.015*\"insurance\" + 0.013*\"middle\" + 0.011*\"child\"'),\n",
       " (5,\n",
       "  '0.024*\"government\" + 0.024*\"let\" + 0.019*\"people\" + 0.015*\"budget\" + 0.015*\"federal\" + 0.014*\"security\" + 0.014*\"years\" + 0.013*\"know\" + 0.012*\"work\" + 0.012*\"world\"'),\n",
       " (6,\n",
       "  '0.026*\"america\" + 0.022*\"year\" + 0.018*\"time\" + 0.015*\"people\" + 0.012*\"nuclear\" + 0.011*\"americans\" + 0.010*\"care\" + 0.009*\"reform\" + 0.009*\"democracy\" + 0.009*\"years\"'),\n",
       " (7,\n",
       "  '0.023*\"year\" + 0.015*\"congress\" + 0.015*\"work\" + 0.012*\"programs\" + 0.011*\"government\" + 0.011*\"america\" + 0.011*\"help\" + 0.010*\"poverty\" + 0.010*\"nations\" + 0.010*\"states\"'),\n",
       " (8,\n",
       "  '0.020*\"congress\" + 0.020*\"people\" + 0.019*\"work\" + 0.019*\"states\" + 0.013*\"help\" + 0.013*\"ought\" + 0.012*\"way\" + 0.012*\"years\" + 0.012*\"american\" + 0.010*\"united\"'),\n",
       " (9,\n",
       "  '0.027*\"america\" + 0.025*\"new\" + 0.018*\"people\" + 0.017*\"years\" + 0.014*\"american\" + 0.014*\"century\" + 0.013*\"americans\" + 0.012*\"world\" + 0.012*\"work\" + 0.011*\"children\"')]"
      ]
     },
     "execution_count": 21,
     "metadata": {},
     "output_type": "execute_result"
    }
   ],
   "source": [
    "from gensim.models import LdaModel\n",
    "\n",
    "# Set training parameters.\n",
    "num_topics = 10\n",
    "\n",
    "# Make a index to word dictionary.\n",
    "temp = dictionary[0]  # This is only to \"load\" the dictionary.\n",
    "id2word = dictionary.id2token\n",
    "\n",
    "model = LdaModel(\n",
    "    corpus=corpus,\n",
    "    id2word=id2word,\n",
    "    num_topics=num_topics\n",
    ")\n",
    "\n",
    "model.print_topics()"
   ]
  },
  {
   "cell_type": "markdown",
   "metadata": {},
   "source": [
    "Inspect the topics. Can you &lsquo;label&rsquo; each topic with a short description of what it is about? Do the topics match your expectations? Summarize your discussion in a short text."
   ]
  },
  {
   "cell_type": "markdown",
   "metadata": {},
   "source": [
    "*TODO: Insert your discussion of the topics here* <br>\n",
    "\n",
    "**Each Topic contains america/americans words and it's difficlut to label each topic.**"
   ]
  },
  {
   "cell_type": "markdown",
   "metadata": {},
   "source": [
    "## Problem 5: Monitor a topic model for convergence"
   ]
  },
  {
   "cell_type": "markdown",
   "metadata": {},
   "source": [
    "When learning an LDA model, it is important to make sure that the training algorithm has converged to a stable posterior distribution. One way to do so is to plot, after each training epochs (or &lsquo;pass&rsquo;, in gensim parlance) the log likelihood of the training data under the posterior. Your last task in this lab is to create such a plot and, based on this, to suggest an appropriate number of epochs.\n",
    "\n",
    "To collect information about the posterior likelihood after each pass, we need to enable the logging facilities of gensim. Once this is done, gensim will add various diagnostics to a log file `gensim.log`."
   ]
  },
  {
   "cell_type": "code",
   "execution_count": 22,
   "metadata": {},
   "outputs": [],
   "source": [
    "import logging\n",
    "\n",
    "logging.basicConfig(filename='gensim.log', format='%(asctime)s:%(levelname)s:%(message)s', level=logging.INFO)"
   ]
  },
  {
   "cell_type": "markdown",
   "metadata": {},
   "source": [
    "The following function will parse the generated logfile and return the list of log likelihoods."
   ]
  },
  {
   "cell_type": "code",
   "execution_count": 23,
   "metadata": {},
   "outputs": [],
   "source": [
    "import re\n",
    "\n",
    "def parse_logfile():\n",
    "    matcher = re.compile('(-*\\d+\\.\\d+) per-word .* (\\d+\\.\\d+) perplexity')\n",
    "    likelihoods = []\n",
    "    with open('gensim.log') as source:\n",
    "        for line in source:\n",
    "            match = matcher.search(line)\n",
    "            if match:\n",
    "                likelihoods.append(float(match.group(1)))\n",
    "    return likelihoods"
   ]
  },
  {
   "cell_type": "markdown",
   "metadata": {},
   "source": [
    "Your task now is to re-train your LDA model for 50&nbsp;passes, retrieve the list of log likelihoods, and create a plot from this data."
   ]
  },
  {
   "cell_type": "code",
   "execution_count": 24,
   "metadata": {},
   "outputs": [],
   "source": [
    "# TODO: Enter code here to generate the convergence plot\n",
    "passes = 50\n",
    "\n",
    "model = LdaModel(\n",
    "    corpus=corpus,\n",
    "    id2word=id2word,\n",
    "    num_topics=num_topics,\n",
    "    passes=passes\n",
    ")\n",
    "\n",
    "logLike = parse_logfile()"
   ]
  },
  {
   "cell_type": "code",
   "execution_count": 25,
   "metadata": {},
   "outputs": [
    {
     "data": {
      "image/png": "[encoded data removed]",
      "text/plain": [
       "<Figure size 432x288 with 1 Axes>"
      ]
     },
     "metadata": {
      "needs_background": "light"
     },
     "output_type": "display_data"
    }
   ],
   "source": [
    "plt.plot(range(passes), logLike)\n",
    "plt.xlabel(\"Passes\", labelpad=14)\n",
    "plt.ylabel(\"Log_likelihood\", labelpad=14)\n",
    "plt.title(\"LogLikelihood for Each Passes\", y=1.02)\n",
    "plt.xticks(rotation=360, ha='right')\n",
    "plt.show()"
   ]
  },
  {
   "cell_type": "markdown",
   "metadata": {},
   "source": [
    "How do you interpret your plot? Based on the plot, what would be a reasonable choice for the number of passes? Retrain your LDA model with that number and re-inspect the topics it finds. Do you consider the new topics to be &lsquo;better&rsquo; than the ones that you got from the 1-pass model in Problem&nbsp;5?"
   ]
  },
  {
   "cell_type": "markdown",
   "metadata": {},
   "source": [
    "*TODO: Insert your discussion of these questions here* <br>\n",
    "\n",
    "**After 40 epochs, loglikelihood values seems to be stable.Hence 45/50 may be a good choice for the number of passes.** <br>\n"
   ]
  },
  {
   "cell_type": "code",
   "execution_count": 26,
   "metadata": {},
   "outputs": [
    {
     "data": {
      "text/plain": [
       "[(0,\n",
       "  '0.062*\"world\" + 0.038*\"america\" + 0.034*\"peace\" + 0.025*\"states\" + 0.025*\"united\" + 0.020*\"freedom\" + 0.020*\"nations\" + 0.018*\"trade\" + 0.014*\"economic\" + 0.014*\"international\"'),\n",
       " (1,\n",
       "  '0.064*\"security\" + 0.050*\"social\" + 0.038*\"president\" + 0.025*\"national\" + 0.025*\"congress\" + 0.025*\"teachers\" + 0.021*\"schools\" + 0.021*\"need\" + 0.018*\"ask\" + 0.017*\"americans\"'),\n",
       " (2,\n",
       "  '0.046*\"budget\" + 0.032*\"government\" + 0.031*\"years\" + 0.029*\"year\" + 0.028*\"federal\" + 0.024*\"cut\" + 0.024*\"spending\" + 0.022*\"tax\" + 0.022*\"percent\" + 0.019*\"billion\"'),\n",
       " (3,\n",
       "  '0.049*\"health\" + 0.048*\"care\" + 0.039*\"children\" + 0.029*\"families\" + 0.025*\"year\" + 0.023*\"education\" + 0.022*\"americans\" + 0.021*\"college\" + 0.021*\"family\" + 0.021*\"child\"'),\n",
       " (4,\n",
       "  '0.028*\"congress\" + 0.023*\"administration\" + 0.023*\"energy\" + 0.019*\"policy\" + 0.017*\"federal\" + 0.016*\"program\" + 0.015*\"new\" + 0.014*\"programs\" + 0.013*\"act\" + 0.013*\"system\"'),\n",
       " (5,\n",
       "  '0.067*\"new\" + 0.039*\"economy\" + 0.035*\"century\" + 0.033*\"america\" + 0.020*\"technology\" + 0.020*\"environment\" + 0.019*\"work\" + 0.019*\"people\" + 0.018*\"government\" + 0.018*\"opportunity\"'),\n",
       " (6,\n",
       "  '0.031*\"people\" + 0.028*\"america\" + 0.026*\"americans\" + 0.024*\"nation\" + 0.022*\"american\" + 0.019*\"tonight\" + 0.019*\"years\" + 0.018*\"let\" + 0.017*\"country\" + 0.017*\"world\"'),\n",
       " (7,\n",
       "  '0.037*\"work\" + 0.037*\"children\" + 0.036*\"people\" + 0.032*\"welfare\" + 0.026*\"know\" + 0.024*\"right\" + 0.023*\"congress\" + 0.023*\"crime\" + 0.019*\"pass\" + 0.017*\"help\"'),\n",
       " (8,\n",
       "  '0.043*\"nuclear\" + 0.036*\"soviet\" + 0.026*\"weapons\" + 0.026*\"forces\" + 0.025*\"military\" + 0.020*\"defense\" + 0.017*\"strategic\" + 0.017*\"new\" + 0.016*\"arms\" + 0.016*\"security\"'),\n",
       " (9,\n",
       "  '0.035*\"new\" + 0.028*\"jobs\" + 0.027*\"tax\" + 0.021*\"private\" + 0.017*\"years\" + 0.016*\"high\" + 0.015*\"workers\" + 0.014*\"rates\" + 0.013*\"inflation\" + 0.012*\"investment\"')]"
      ]
     },
     "execution_count": 26,
     "metadata": {},
     "output_type": "execute_result"
    }
   ],
   "source": [
    "model.print_topics()"
   ]
  },
  {
   "cell_type": "markdown",
   "metadata": {},
   "source": [
    "**New topic models seems to be better than the previous one.**"
   ]
  },
  {
   "cell_type": "markdown",
   "metadata": {},
   "source": [
    "01. https://stackoverflow.com/questions/49586742/rand-index-function-clustering-performance-evaluation <br>\n",
    "02. https://davetang.org/muse/2017/09/21/the-rand-index/ <br>\n",
    "03. https://machinelearningmastery.com/how-to-one-hot-encode-sequence-data-in-python/ <br>\n",
    "04. https://stackoverflow.com/questions/20574257/constructing-a-co-occurrence-matrix-in-python-pandas <br>\n",
    "05. https://stackoverflow.com/questions/49586742/rand-index-function-clustering-performance-evaluation"
   ]
  },
  {
   "cell_type": "markdown",
   "metadata": {},
   "source": [
    "<div class=\"alert alert-info\">\n",
    "    Please read the section ‘General information’ on the ‘Labs’ page of the course website before submitting this notebook!\n",
    "</div>"
   ]
  }
 ],
 "metadata": {
  "kernelspec": {
   "display_name": "Python 3",
   "language": "python",
   "name": "python3"
  },
  "language_info": {
   "codemirror_mode": {
    "name": "ipython",
    "version": 3
   },
   "file_extension": ".py",
   "mimetype": "text/x-python",
   "name": "python",
   "nbconvert_exporter": "python",
   "pygments_lexer": "ipython3",
   "version": "3.8.3"
  }
 },
 "nbformat": 4,
 "nbformat_minor": 2
}
