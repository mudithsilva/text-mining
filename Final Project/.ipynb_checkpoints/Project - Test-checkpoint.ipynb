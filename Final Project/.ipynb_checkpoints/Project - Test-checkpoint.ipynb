{
 "cells": [
  {
   "cell_type": "code",
   "execution_count": 1,
   "metadata": {},
   "outputs": [],
   "source": [
    "import spacy\n",
    "from proj_helper import Helper\n",
    "import pandas as pd"
   ]
  },
  {
   "cell_type": "code",
   "execution_count": 2,
   "metadata": {},
   "outputs": [],
   "source": [
    "item = Helper()"
   ]
  },
  {
   "cell_type": "code",
   "execution_count": 3,
   "metadata": {},
   "outputs": [],
   "source": [
    "# item.get_chat_response(\"Actually I need to check hair cut prices\")"
   ]
  },
  {
   "cell_type": "code",
   "execution_count": 4,
   "metadata": {},
   "outputs": [],
   "source": [
    "item.re_name"
   ]
  },
  {
   "cell_type": "code",
   "execution_count": 5,
   "metadata": {},
   "outputs": [
    {
     "name": "stdout",
     "output_type": "stream",
     "text": [
      "Your Reply: Hi! My name is Saman\n",
      "Chatbot Reply:  Hello Good Evening Saman! How can I help you today? \n",
      "Your Reply: I need to know about hair cut\n",
      "Chatbot Reply:  We are providing Hair cuts for Ladies, Gents and Children hair cuts. Ladies Hair cut 20$ upwards. Gents Hair cut 10$ upwards. And we have special children hair cuts 6$ upwards.\n",
      "Your Reply: Okay thank you!\n",
      "Chatbot Reply:  Thank you Saman! Good Night!\n"
     ]
    }
   ],
   "source": [
    "stop_chatbot = False\n",
    "\n",
    "while not stop_chatbot:\n",
    "    user_input = input(\"Your Reply: \")\n",
    "    \n",
    "    if user_input == 'EXIT':\n",
    "        stop_chatbot = True\n",
    "    else:\n",
    "        bot_reply = item.get_chat_response(user_input)\n",
    "        print('Chatbot Reply: ', bot_reply)\n",
    "        if item.is_exit_chat == True:\n",
    "            stop_chatbot = True"
   ]
  },
  {
   "cell_type": "markdown",
   "metadata": {},
   "source": [
    "References <br>\n",
    "01. https://machinelearningmastery.com/save-load-machine-learning-models-python-scikit-learn/ <br>\n",
    "02. Added interjections"
   ]
  },
  {
   "cell_type": "code",
   "execution_count": null,
   "metadata": {},
   "outputs": [],
   "source": []
  }
 ],
 "metadata": {
  "kernelspec": {
   "display_name": "Python 3",
   "language": "python",
   "name": "python3"
  },
  "language_info": {
   "codemirror_mode": {
    "name": "ipython",
    "version": 3
   },
   "file_extension": ".py",
   "mimetype": "text/x-python",
   "name": "python",
   "nbconvert_exporter": "python",
   "pygments_lexer": "ipython3",
   "version": "3.8.3"
  }
 },
 "nbformat": 4,
 "nbformat_minor": 4
}
