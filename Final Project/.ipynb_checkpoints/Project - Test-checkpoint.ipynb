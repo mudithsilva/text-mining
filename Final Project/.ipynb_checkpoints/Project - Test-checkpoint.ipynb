{
 "cells": [
  {
   "cell_type": "code",
   "execution_count": 1,
   "metadata": {},
   "outputs": [],
   "source": [
    "import spacy\n",
    "from proj_helper import Helper\n",
    "import pandas as pd"
   ]
  },
  {
   "cell_type": "code",
   "execution_count": 2,
   "metadata": {},
   "outputs": [
    {
     "name": "stdout",
     "output_type": "stream",
     "text": [
      "Time  13\n"
     ]
    }
   ],
   "source": [
    "item = Helper()"
   ]
  },
  {
   "cell_type": "code",
   "execution_count": 15,
   "metadata": {},
   "outputs": [
    {
     "name": "stdout",
     "output_type": "stream",
     "text": [
      "Test |||  usernamehusernameiusername usernameiusername'usernamemusername usernamegusernameousernameousernamedusername usernamemusernameousernamerusernamenusernameiusernamenusernamegusername\n",
      "Pred Group is  [1]\n",
      "Chat Person Name :-  \n",
      "Greeting :-  good morning\n",
      "Service Codes :-  []\n",
      "Service Tags :-  []\n"
     ]
    },
    {
     "data": {
      "text/plain": [
       "'Hello !'"
      ]
     },
     "execution_count": 15,
     "metadata": {},
     "output_type": "execute_result"
    }
   ],
   "source": [
    "item.get_chat_response(\"hi I'm good morning\")"
   ]
  },
  {
   "cell_type": "code",
   "execution_count": 4,
   "metadata": {},
   "outputs": [
    {
     "name": "stdout",
     "output_type": "stream",
     "text": [
      "Test |||  usernamegusernameousernameousernamedusername usernamemusernameousernamerusernamenusernameiusernamenusernamegusername usernameiusername usernameausernamemusername usernameausernamenusernamenusernameeusername usernamesusernameiusernamelusernamevusernameausername!username.username usernameiusername usernamelusernameiusernamekusernameeusername usernametusernameousername usernamekusernamenusernameousernamewusername usernamerusernameousernameousernamemusernamesusername\n",
      "Pred Group is  [1]\n",
      "Chat Person Name :-  \n",
      "Greeting :-  Good Morning\n",
      "Service Codes :-  []\n",
      "Service Tags :-  []\n"
     ]
    },
    {
     "data": {
      "text/plain": [
       "'Howdy! How can I help you !'"
      ]
     },
     "execution_count": 4,
     "metadata": {},
     "output_type": "execute_result"
    }
   ],
   "source": [
    "item.get_chat_response(\"Good Morning I am Anne Silva!. I like to know rooms\")"
   ]
  },
  {
   "cell_type": "code",
   "execution_count": 5,
   "metadata": {},
   "outputs": [
    {
     "data": {
      "text/plain": [
       "['like',\n",
       " 'know',\n",
       " 'service',\n",
       " 'interjection',\n",
       " 'need',\n",
       " 'available',\n",
       " 'saloon',\n",
       " 'tell',\n",
       " 'provide',\n",
       " 'price',\n",
       " 'information',\n",
       " 'willing',\n",
       " 'want',\n",
       " 'username',\n",
       " 'serif',\n",
       " 'usergreet',\n",
       " 'offer',\n",
       " 'info',\n",
       " 'way',\n",
       " 'hope']"
      ]
     },
     "execution_count": 5,
     "metadata": {},
     "output_type": "execute_result"
    }
   ],
   "source": [
    "item.cluster3_words"
   ]
  },
  {
   "cell_type": "code",
   "execution_count": 6,
   "metadata": {},
   "outputs": [],
   "source": [
    "# def process_text(text):\n",
    "#     doc = nlp(text.lower())\n",
    "#     result = []\n",
    "#     for token in doc:\n",
    "#         if token.text in nlp.Defaults.stop_words:\n",
    "#             continue\n",
    "#         if token.is_punct:\n",
    "#             continue\n",
    "#         if token.lemma_ == '-PRON-':\n",
    "#             continue\n",
    "#         result.append(token.lemma_)\n",
    "#     return \" \".join(result)\n",
    "\n",
    "# def calculate_similarity(text1, text2):\n",
    "#     base = nlp(process_text(text1))\n",
    "#     compare = nlp(process_text(text2))\n",
    "#     return base.similarity(compare)"
   ]
  },
  {
   "cell_type": "code",
   "execution_count": 7,
   "metadata": {},
   "outputs": [],
   "source": [
    "# sen_1 = \"I need to know about saloon service\"\n",
    "# sen_2 = \"what services do you provide?\"\n",
    "\n",
    "# calculate_similarity(sen_1,sen_2)"
   ]
  },
  {
   "cell_type": "code",
   "execution_count": 8,
   "metadata": {},
   "outputs": [],
   "source": [
    "# from spacy.vocab import Vocab\n",
    "# vocab = Vocab(strings=[\"hello\", \"world\"])"
   ]
  },
  {
   "cell_type": "code",
   "execution_count": 9,
   "metadata": {},
   "outputs": [],
   "source": [
    "# from spacy_lookup import Entity\n",
    "# nlp = spacy.load('en_core_web_sm')\n",
    "# entity = Entity(keywords_list=['Men hair cut','hair cut'], label='ACME')\n",
    "# nlp.add_pipe(entity, last=True)\n",
    "\n",
    "# doc = nlp(\"I need to get men hair cut prices.\")\n",
    "# # assert doc._.has_entities == True\n",
    "# # assert doc[2:5]._.has_entities == True\n",
    "# # assert doc[0]._.is_entity == False\n",
    "# # assert doc[3]._.is_entity == True\n",
    "# print(doc._.entities)\n",
    "# print(doc[5])"
   ]
  },
  {
   "cell_type": "code",
   "execution_count": 10,
   "metadata": {},
   "outputs": [],
   "source": [
    "# for ent in doc.ents:\n",
    "#     print(ent.text, ent.start_char, ent.end_char, ent.label_)"
   ]
  },
  {
   "cell_type": "code",
   "execution_count": 11,
   "metadata": {},
   "outputs": [],
   "source": [
    "# def is_my_product(text):\n",
    "#     products = [\"cut\"]\n",
    "#     return text in products\n",
    "\n",
    "# MY_PRODUCT = nlp.vocab.add_flag(is_my_product)\n",
    "# doc = nlp(\"I want to know hair cut\")\n",
    "# doc[4].check_flag(MY_PRODUCT)"
   ]
  },
  {
   "cell_type": "markdown",
   "metadata": {},
   "source": [
    "References <br>\n",
    "01. https://machinelearningmastery.com/save-load-machine-learning-models-python-scikit-learn/ <br>\n",
    "02. Added interjections"
   ]
  },
  {
   "cell_type": "code",
   "execution_count": null,
   "metadata": {},
   "outputs": [],
   "source": []
  }
 ],
 "metadata": {
  "kernelspec": {
   "display_name": "Python 3",
   "language": "python",
   "name": "python3"
  },
  "language_info": {
   "codemirror_mode": {
    "name": "ipython",
    "version": 3
   },
   "file_extension": ".py",
   "mimetype": "text/x-python",
   "name": "python",
   "nbconvert_exporter": "python",
   "pygments_lexer": "ipython3",
   "version": "3.8.3"
  }
 },
 "nbformat": 4,
 "nbformat_minor": 4
}
