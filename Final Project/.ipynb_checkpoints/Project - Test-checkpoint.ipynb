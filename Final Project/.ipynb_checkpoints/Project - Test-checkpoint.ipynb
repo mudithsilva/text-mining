{
 "cells": [
  {
   "cell_type": "code",
   "execution_count": 1,
   "metadata": {},
   "outputs": [],
   "source": [
    "import spacy\n",
    "from proj_helper import Helper\n",
    "import pandas as pd"
   ]
  },
  {
   "cell_type": "code",
   "execution_count": 2,
   "metadata": {},
   "outputs": [
    {
     "name": "stdout",
     "output_type": "stream",
     "text": [
      "Time  22\n"
     ]
    }
   ],
   "source": [
    "item = Helper()"
   ]
  },
  {
   "cell_type": "code",
   "execution_count": 14,
   "metadata": {},
   "outputs": [
    {
     "name": "stdout",
     "output_type": "stream",
     "text": [
      "Chat Person name is :-  Mrs. Ratnasekara\n",
      "hair setups 57 68 GEN_SERVICE\n",
      "Test |||  usergreete -PRON- be username can -PRON- tell -PRON- about -PRON- hair setups price\n",
      "Pred Group is  [3]\n"
     ]
    }
   ],
   "source": [
    "item.get_chat_response(\"Morning I'm Mrs. Ratnasekara. Can you tell me about your hair setups prices\")"
   ]
  },
  {
   "cell_type": "code",
   "execution_count": 4,
   "metadata": {},
   "outputs": [
    {
     "name": "stdout",
     "output_type": "stream",
     "text": [
      "Chat Person name is :-  Anne Silva\n",
      "Test |||  usergreeting i be username i like to\n",
      "Pred Group is  [1]\n"
     ]
    },
    {
     "data": {
      "text/plain": [
       "'Hi Anne Silva! How may I help you :)'"
      ]
     },
     "execution_count": 4,
     "metadata": {},
     "output_type": "execute_result"
    }
   ],
   "source": [
    "item.get_chat_response(\"Good Morning! I am Anne Silva!. I like to\")"
   ]
  },
  {
   "cell_type": "code",
   "execution_count": 5,
   "metadata": {},
   "outputs": [
    {
     "data": {
      "text/plain": [
       "'Anne Silva'"
      ]
     },
     "execution_count": 5,
     "metadata": {},
     "output_type": "execute_result"
    }
   ],
   "source": [
    "item.caller_name"
   ]
  },
  {
   "cell_type": "code",
   "execution_count": null,
   "metadata": {},
   "outputs": [],
   "source": []
  },
  {
   "cell_type": "code",
   "execution_count": 6,
   "metadata": {},
   "outputs": [],
   "source": [
    "# from spacy.vocab import Vocab\n",
    "# vocab = Vocab(strings=[\"hello\", \"world\"])"
   ]
  },
  {
   "cell_type": "code",
   "execution_count": 7,
   "metadata": {},
   "outputs": [],
   "source": [
    "# from spacy_lookup import Entity\n",
    "# nlp = spacy.load('en_core_web_sm')\n",
    "# entity = Entity(keywords_list=['Men hair cut','hair cut'], label='ACME')\n",
    "# nlp.add_pipe(entity, last=True)\n",
    "\n",
    "# doc = nlp(\"I need to get men hair cut prices.\")\n",
    "# # assert doc._.has_entities == True\n",
    "# # assert doc[2:5]._.has_entities == True\n",
    "# # assert doc[0]._.is_entity == False\n",
    "# # assert doc[3]._.is_entity == True\n",
    "# print(doc._.entities)\n",
    "# print(doc[5])"
   ]
  },
  {
   "cell_type": "code",
   "execution_count": 8,
   "metadata": {},
   "outputs": [],
   "source": [
    "# for ent in doc.ents:\n",
    "#     print(ent.text, ent.start_char, ent.end_char, ent.label_)"
   ]
  },
  {
   "cell_type": "code",
   "execution_count": 9,
   "metadata": {},
   "outputs": [],
   "source": [
    "# def is_my_product(text):\n",
    "#     products = [\"cut\"]\n",
    "#     return text in products\n",
    "\n",
    "# MY_PRODUCT = nlp.vocab.add_flag(is_my_product)\n",
    "# doc = nlp(\"I want to know hair cut\")\n",
    "# doc[4].check_flag(MY_PRODUCT)"
   ]
  },
  {
   "cell_type": "code",
   "execution_count": 10,
   "metadata": {},
   "outputs": [],
   "source": [
    "# s = list(\"Hello  zorld\")\n",
    "# s[7:12] = list(\"world\")\n",
    "# s"
   ]
  },
  {
   "cell_type": "code",
   "execution_count": 11,
   "metadata": {},
   "outputs": [],
   "source": [
    "# all_service_data = pd.read_excel('Services.xlsx', header=0) \n",
    "# service_data = all_service_data[all_service_data['Type'] == 1]\n",
    "# service_data['Service'].tolist()"
   ]
  },
  {
   "cell_type": "markdown",
   "metadata": {},
   "source": [
    "References <br>\n",
    "01. https://machinelearningmastery.com/save-load-machine-learning-models-python-scikit-learn/ <br>\n",
    "02. Added interjections"
   ]
  },
  {
   "cell_type": "code",
   "execution_count": null,
   "metadata": {},
   "outputs": [],
   "source": []
  }
 ],
 "metadata": {
  "kernelspec": {
   "display_name": "Python 3",
   "language": "python",
   "name": "python3"
  },
  "language_info": {
   "codemirror_mode": {
    "name": "ipython",
    "version": 3
   },
   "file_extension": ".py",
   "mimetype": "text/x-python",
   "name": "python",
   "nbconvert_exporter": "python",
   "pygments_lexer": "ipython3",
   "version": "3.8.3"
  }
 },
 "nbformat": 4,
 "nbformat_minor": 4
}
